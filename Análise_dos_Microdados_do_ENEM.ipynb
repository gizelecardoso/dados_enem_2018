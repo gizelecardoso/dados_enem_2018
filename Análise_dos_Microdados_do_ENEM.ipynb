{
  "nbformat": 4,
  "nbformat_minor": 0,
  "metadata": {
    "colab": {
      "name": "Análise dos Microdados do ENEM.ipynb",
      "provenance": [],
      "collapsed_sections": [
        "sx416mxQ8Cno",
        "dh81KF_IDi-h",
        "9-IqC6tSDytt",
        "aYCZtFYdFtRv",
        "UlL8ZBd7JsUD",
        "FIwyg8d1MGtc",
        "tLG91SSWPK8c"
      ],
      "mount_file_id": "1Zwyotq8WltQ1sQXWijHro-PQQStWzZW-",
      "authorship_tag": "ABX9TyPRy5/2O1dRMQiX74w7akLf",
      "include_colab_link": true
    },
    "kernelspec": {
      "name": "python3",
      "display_name": "Python 3"
    },
    "language_info": {
      "name": "python"
    }
  },
  "cells": [
    {
      "cell_type": "markdown",
      "metadata": {
        "id": "view-in-github",
        "colab_type": "text"
      },
      "source": [
        "<a href=\"https://colab.research.google.com/github/gizelecardoso/dados_enem_2018/blob/main/An%C3%A1lise_dos_Microdados_do_ENEM.ipynb\" target=\"_parent\"><img src=\"https://colab.research.google.com/assets/colab-badge.svg\" alt=\"Open In Colab\"/></a>"
      ]
    },
    {
      "cell_type": "markdown",
      "metadata": {
        "id": "bCaml_vc9zQE"
      },
      "source": [
        "# Análise dos Microdados do ENEM"
      ]
    },
    {
      "cell_type": "code",
      "metadata": {
        "id": "vdfbAX5_9yUs"
      },
      "source": [
        "import pandas as pd\n",
        "import matplotlib.pyplot as plt\n",
        "import numpy as np"
      ],
      "execution_count": null,
      "outputs": []
    },
    {
      "cell_type": "code",
      "metadata": {
        "id": "Dccjhl-A-Qla"
      },
      "source": [
        "microdadosEnem = pd.read_csv('/content/drive/MyDrive/dados_data_science/microdados_enem2018/DADOS/MICRODADOS_ENEM_2018.csv', sep=\";\", encoding='ISO-8859-1', chunksize=100000)"
      ],
      "execution_count": null,
      "outputs": []
    },
    {
      "cell_type": "code",
      "metadata": {
        "colab": {
          "base_uri": "https://localhost:8080/",
          "height": 256
        },
        "id": "zofb3x4wp9oI",
        "outputId": "0bfa2ae7-d4ce-4e46-b05c-5fbbabd1861f"
      },
      "source": [
        "microdadosEnem = microdadosEnem.get_chunk()\n",
        "\n",
        "microdadosEnem.head()"
      ],
      "execution_count": null,
      "outputs": [
        {
          "output_type": "execute_result",
          "data": {
            "text/html": [
              "<div>\n",
              "<style scoped>\n",
              "    .dataframe tbody tr th:only-of-type {\n",
              "        vertical-align: middle;\n",
              "    }\n",
              "\n",
              "    .dataframe tbody tr th {\n",
              "        vertical-align: top;\n",
              "    }\n",
              "\n",
              "    .dataframe thead th {\n",
              "        text-align: right;\n",
              "    }\n",
              "</style>\n",
              "<table border=\"1\" class=\"dataframe\">\n",
              "  <thead>\n",
              "    <tr style=\"text-align: right;\">\n",
              "      <th></th>\n",
              "      <th>NU_INSCRICAO</th>\n",
              "      <th>NU_ANO</th>\n",
              "      <th>CO_MUNICIPIO_RESIDENCIA</th>\n",
              "      <th>NO_MUNICIPIO_RESIDENCIA</th>\n",
              "      <th>CO_UF_RESIDENCIA</th>\n",
              "      <th>SG_UF_RESIDENCIA</th>\n",
              "      <th>NU_IDADE</th>\n",
              "      <th>TP_SEXO</th>\n",
              "      <th>TP_ESTADO_CIVIL</th>\n",
              "      <th>TP_COR_RACA</th>\n",
              "      <th>TP_NACIONALIDADE</th>\n",
              "      <th>CO_MUNICIPIO_NASCIMENTO</th>\n",
              "      <th>NO_MUNICIPIO_NASCIMENTO</th>\n",
              "      <th>CO_UF_NASCIMENTO</th>\n",
              "      <th>SG_UF_NASCIMENTO</th>\n",
              "      <th>TP_ST_CONCLUSAO</th>\n",
              "      <th>TP_ANO_CONCLUIU</th>\n",
              "      <th>TP_ESCOLA</th>\n",
              "      <th>TP_ENSINO</th>\n",
              "      <th>IN_TREINEIRO</th>\n",
              "      <th>CO_ESCOLA</th>\n",
              "      <th>CO_MUNICIPIO_ESC</th>\n",
              "      <th>NO_MUNICIPIO_ESC</th>\n",
              "      <th>CO_UF_ESC</th>\n",
              "      <th>SG_UF_ESC</th>\n",
              "      <th>TP_DEPENDENCIA_ADM_ESC</th>\n",
              "      <th>TP_LOCALIZACAO_ESC</th>\n",
              "      <th>TP_SIT_FUNC_ESC</th>\n",
              "      <th>IN_BAIXA_VISAO</th>\n",
              "      <th>IN_CEGUEIRA</th>\n",
              "      <th>IN_SURDEZ</th>\n",
              "      <th>IN_DEFICIENCIA_AUDITIVA</th>\n",
              "      <th>IN_SURDO_CEGUEIRA</th>\n",
              "      <th>IN_DEFICIENCIA_FISICA</th>\n",
              "      <th>IN_DEFICIENCIA_MENTAL</th>\n",
              "      <th>IN_DEFICIT_ATENCAO</th>\n",
              "      <th>IN_DISLEXIA</th>\n",
              "      <th>IN_DISCALCULIA</th>\n",
              "      <th>IN_AUTISMO</th>\n",
              "      <th>IN_VISAO_MONOCULAR</th>\n",
              "      <th>...</th>\n",
              "      <th>TX_RESPOSTAS_MT</th>\n",
              "      <th>TP_LINGUA</th>\n",
              "      <th>TX_GABARITO_CN</th>\n",
              "      <th>TX_GABARITO_CH</th>\n",
              "      <th>TX_GABARITO_LC</th>\n",
              "      <th>TX_GABARITO_MT</th>\n",
              "      <th>TP_STATUS_REDACAO</th>\n",
              "      <th>NU_NOTA_COMP1</th>\n",
              "      <th>NU_NOTA_COMP2</th>\n",
              "      <th>NU_NOTA_COMP3</th>\n",
              "      <th>NU_NOTA_COMP4</th>\n",
              "      <th>NU_NOTA_COMP5</th>\n",
              "      <th>NU_NOTA_REDACAO</th>\n",
              "      <th>Q001</th>\n",
              "      <th>Q002</th>\n",
              "      <th>Q003</th>\n",
              "      <th>Q004</th>\n",
              "      <th>Q005</th>\n",
              "      <th>Q006</th>\n",
              "      <th>Q007</th>\n",
              "      <th>Q008</th>\n",
              "      <th>Q009</th>\n",
              "      <th>Q010</th>\n",
              "      <th>Q011</th>\n",
              "      <th>Q012</th>\n",
              "      <th>Q013</th>\n",
              "      <th>Q014</th>\n",
              "      <th>Q015</th>\n",
              "      <th>Q016</th>\n",
              "      <th>Q017</th>\n",
              "      <th>Q018</th>\n",
              "      <th>Q019</th>\n",
              "      <th>Q020</th>\n",
              "      <th>Q021</th>\n",
              "      <th>Q022</th>\n",
              "      <th>Q023</th>\n",
              "      <th>Q024</th>\n",
              "      <th>Q025</th>\n",
              "      <th>Q026</th>\n",
              "      <th>Q027</th>\n",
              "    </tr>\n",
              "  </thead>\n",
              "  <tbody>\n",
              "    <tr>\n",
              "      <th>0</th>\n",
              "      <td>180008202043</td>\n",
              "      <td>2018</td>\n",
              "      <td>5300108</td>\n",
              "      <td>Brasília</td>\n",
              "      <td>53</td>\n",
              "      <td>DF</td>\n",
              "      <td>44.0</td>\n",
              "      <td>M</td>\n",
              "      <td>1.0</td>\n",
              "      <td>1</td>\n",
              "      <td>0</td>\n",
              "      <td>NaN</td>\n",
              "      <td>NaN</td>\n",
              "      <td>NaN</td>\n",
              "      <td>NaN</td>\n",
              "      <td>2</td>\n",
              "      <td>0</td>\n",
              "      <td>2</td>\n",
              "      <td>1.0</td>\n",
              "      <td>0</td>\n",
              "      <td>52033333.0</td>\n",
              "      <td>5208707.0</td>\n",
              "      <td>Goiânia</td>\n",
              "      <td>52.0</td>\n",
              "      <td>GO</td>\n",
              "      <td>2.0</td>\n",
              "      <td>1.0</td>\n",
              "      <td>1.0</td>\n",
              "      <td>0</td>\n",
              "      <td>0</td>\n",
              "      <td>0</td>\n",
              "      <td>0</td>\n",
              "      <td>0</td>\n",
              "      <td>0</td>\n",
              "      <td>0</td>\n",
              "      <td>0</td>\n",
              "      <td>0</td>\n",
              "      <td>0</td>\n",
              "      <td>0</td>\n",
              "      <td>0</td>\n",
              "      <td>...</td>\n",
              "      <td>NaN</td>\n",
              "      <td>1</td>\n",
              "      <td>NaN</td>\n",
              "      <td>NaN</td>\n",
              "      <td>NaN</td>\n",
              "      <td>NaN</td>\n",
              "      <td>NaN</td>\n",
              "      <td>NaN</td>\n",
              "      <td>NaN</td>\n",
              "      <td>NaN</td>\n",
              "      <td>NaN</td>\n",
              "      <td>NaN</td>\n",
              "      <td>NaN</td>\n",
              "      <td>A</td>\n",
              "      <td>A</td>\n",
              "      <td>A</td>\n",
              "      <td>A</td>\n",
              "      <td>1</td>\n",
              "      <td>A</td>\n",
              "      <td>A</td>\n",
              "      <td>A</td>\n",
              "      <td>A</td>\n",
              "      <td>A</td>\n",
              "      <td>A</td>\n",
              "      <td>A</td>\n",
              "      <td>A</td>\n",
              "      <td>A</td>\n",
              "      <td>A</td>\n",
              "      <td>A</td>\n",
              "      <td>A</td>\n",
              "      <td>A</td>\n",
              "      <td>A</td>\n",
              "      <td>A</td>\n",
              "      <td>A</td>\n",
              "      <td>A</td>\n",
              "      <td>A</td>\n",
              "      <td>A</td>\n",
              "      <td>A</td>\n",
              "      <td>B</td>\n",
              "      <td>A</td>\n",
              "    </tr>\n",
              "    <tr>\n",
              "      <th>1</th>\n",
              "      <td>180007197856</td>\n",
              "      <td>2018</td>\n",
              "      <td>2111102</td>\n",
              "      <td>São João dos Patos</td>\n",
              "      <td>21</td>\n",
              "      <td>MA</td>\n",
              "      <td>23.0</td>\n",
              "      <td>F</td>\n",
              "      <td>0.0</td>\n",
              "      <td>3</td>\n",
              "      <td>1</td>\n",
              "      <td>2111102.0</td>\n",
              "      <td>São João dos Patos</td>\n",
              "      <td>21.0</td>\n",
              "      <td>MA</td>\n",
              "      <td>1</td>\n",
              "      <td>5</td>\n",
              "      <td>1</td>\n",
              "      <td>1.0</td>\n",
              "      <td>0</td>\n",
              "      <td>NaN</td>\n",
              "      <td>NaN</td>\n",
              "      <td>NaN</td>\n",
              "      <td>NaN</td>\n",
              "      <td>NaN</td>\n",
              "      <td>NaN</td>\n",
              "      <td>NaN</td>\n",
              "      <td>NaN</td>\n",
              "      <td>0</td>\n",
              "      <td>0</td>\n",
              "      <td>0</td>\n",
              "      <td>0</td>\n",
              "      <td>0</td>\n",
              "      <td>0</td>\n",
              "      <td>0</td>\n",
              "      <td>0</td>\n",
              "      <td>0</td>\n",
              "      <td>0</td>\n",
              "      <td>0</td>\n",
              "      <td>0</td>\n",
              "      <td>...</td>\n",
              "      <td>CACBEEDBDDAEAEDDABAAEEAEAEEABAEDAAAACEAABADAA</td>\n",
              "      <td>0</td>\n",
              "      <td>EBBEBACEDDEDDCBCCACBDDDAECAADBCEABEAEABDBCACE</td>\n",
              "      <td>CACDDBDDECCEDEEEBCEAEECBBEBEDBEDECBEBDCAABCDE</td>\n",
              "      <td>BBDECBBCDBCECBABDBEDACDDBBBEADECACEDBEBABCBEAE...</td>\n",
              "      <td>ADCACEDDABEBBCBCADDACCCDEBBDAEEDBEXBCAEDABADA</td>\n",
              "      <td>1.0</td>\n",
              "      <td>120.0</td>\n",
              "      <td>40.0</td>\n",
              "      <td>40.0</td>\n",
              "      <td>60.0</td>\n",
              "      <td>20.0</td>\n",
              "      <td>280.0</td>\n",
              "      <td>B</td>\n",
              "      <td>B</td>\n",
              "      <td>A</td>\n",
              "      <td>A</td>\n",
              "      <td>4</td>\n",
              "      <td>B</td>\n",
              "      <td>A</td>\n",
              "      <td>B</td>\n",
              "      <td>C</td>\n",
              "      <td>A</td>\n",
              "      <td>A</td>\n",
              "      <td>B</td>\n",
              "      <td>A</td>\n",
              "      <td>A</td>\n",
              "      <td>A</td>\n",
              "      <td>A</td>\n",
              "      <td>A</td>\n",
              "      <td>A</td>\n",
              "      <td>B</td>\n",
              "      <td>A</td>\n",
              "      <td>A</td>\n",
              "      <td>B</td>\n",
              "      <td>A</td>\n",
              "      <td>A</td>\n",
              "      <td>A</td>\n",
              "      <td>A</td>\n",
              "      <td>A</td>\n",
              "    </tr>\n",
              "    <tr>\n",
              "      <th>2</th>\n",
              "      <td>180008517434</td>\n",
              "      <td>2018</td>\n",
              "      <td>3530607</td>\n",
              "      <td>Mogi das Cruzes</td>\n",
              "      <td>35</td>\n",
              "      <td>SP</td>\n",
              "      <td>23.0</td>\n",
              "      <td>F</td>\n",
              "      <td>0.0</td>\n",
              "      <td>1</td>\n",
              "      <td>1</td>\n",
              "      <td>4209300.0</td>\n",
              "      <td>Lages</td>\n",
              "      <td>42.0</td>\n",
              "      <td>SC</td>\n",
              "      <td>1</td>\n",
              "      <td>3</td>\n",
              "      <td>1</td>\n",
              "      <td>3.0</td>\n",
              "      <td>0</td>\n",
              "      <td>NaN</td>\n",
              "      <td>NaN</td>\n",
              "      <td>NaN</td>\n",
              "      <td>NaN</td>\n",
              "      <td>NaN</td>\n",
              "      <td>NaN</td>\n",
              "      <td>NaN</td>\n",
              "      <td>NaN</td>\n",
              "      <td>0</td>\n",
              "      <td>0</td>\n",
              "      <td>0</td>\n",
              "      <td>0</td>\n",
              "      <td>0</td>\n",
              "      <td>0</td>\n",
              "      <td>0</td>\n",
              "      <td>0</td>\n",
              "      <td>0</td>\n",
              "      <td>0</td>\n",
              "      <td>0</td>\n",
              "      <td>0</td>\n",
              "      <td>...</td>\n",
              "      <td>NaN</td>\n",
              "      <td>0</td>\n",
              "      <td>NaN</td>\n",
              "      <td>NaN</td>\n",
              "      <td>NaN</td>\n",
              "      <td>NaN</td>\n",
              "      <td>NaN</td>\n",
              "      <td>NaN</td>\n",
              "      <td>NaN</td>\n",
              "      <td>NaN</td>\n",
              "      <td>NaN</td>\n",
              "      <td>NaN</td>\n",
              "      <td>NaN</td>\n",
              "      <td>E</td>\n",
              "      <td>E</td>\n",
              "      <td>C</td>\n",
              "      <td>B</td>\n",
              "      <td>4</td>\n",
              "      <td>C</td>\n",
              "      <td>A</td>\n",
              "      <td>B</td>\n",
              "      <td>C</td>\n",
              "      <td>B</td>\n",
              "      <td>A</td>\n",
              "      <td>B</td>\n",
              "      <td>A</td>\n",
              "      <td>B</td>\n",
              "      <td>A</td>\n",
              "      <td>B</td>\n",
              "      <td>A</td>\n",
              "      <td>A</td>\n",
              "      <td>B</td>\n",
              "      <td>A</td>\n",
              "      <td>A</td>\n",
              "      <td>B</td>\n",
              "      <td>B</td>\n",
              "      <td>B</td>\n",
              "      <td>B</td>\n",
              "      <td>A</td>\n",
              "      <td>A</td>\n",
              "    </tr>\n",
              "    <tr>\n",
              "      <th>3</th>\n",
              "      <td>180007661228</td>\n",
              "      <td>2018</td>\n",
              "      <td>2916401</td>\n",
              "      <td>Itapetinga</td>\n",
              "      <td>29</td>\n",
              "      <td>BA</td>\n",
              "      <td>26.0</td>\n",
              "      <td>F</td>\n",
              "      <td>0.0</td>\n",
              "      <td>3</td>\n",
              "      <td>2</td>\n",
              "      <td>NaN</td>\n",
              "      <td>NaN</td>\n",
              "      <td>NaN</td>\n",
              "      <td>NaN</td>\n",
              "      <td>1</td>\n",
              "      <td>8</td>\n",
              "      <td>1</td>\n",
              "      <td>1.0</td>\n",
              "      <td>0</td>\n",
              "      <td>NaN</td>\n",
              "      <td>NaN</td>\n",
              "      <td>NaN</td>\n",
              "      <td>NaN</td>\n",
              "      <td>NaN</td>\n",
              "      <td>NaN</td>\n",
              "      <td>NaN</td>\n",
              "      <td>NaN</td>\n",
              "      <td>0</td>\n",
              "      <td>0</td>\n",
              "      <td>0</td>\n",
              "      <td>0</td>\n",
              "      <td>0</td>\n",
              "      <td>0</td>\n",
              "      <td>0</td>\n",
              "      <td>0</td>\n",
              "      <td>0</td>\n",
              "      <td>0</td>\n",
              "      <td>0</td>\n",
              "      <td>0</td>\n",
              "      <td>...</td>\n",
              "      <td>NaN</td>\n",
              "      <td>1</td>\n",
              "      <td>NaN</td>\n",
              "      <td>NaN</td>\n",
              "      <td>NaN</td>\n",
              "      <td>NaN</td>\n",
              "      <td>NaN</td>\n",
              "      <td>NaN</td>\n",
              "      <td>NaN</td>\n",
              "      <td>NaN</td>\n",
              "      <td>NaN</td>\n",
              "      <td>NaN</td>\n",
              "      <td>NaN</td>\n",
              "      <td>B</td>\n",
              "      <td>C</td>\n",
              "      <td>C</td>\n",
              "      <td>B</td>\n",
              "      <td>4</td>\n",
              "      <td>B</td>\n",
              "      <td>A</td>\n",
              "      <td>B</td>\n",
              "      <td>C</td>\n",
              "      <td>A</td>\n",
              "      <td>A</td>\n",
              "      <td>B</td>\n",
              "      <td>A</td>\n",
              "      <td>A</td>\n",
              "      <td>A</td>\n",
              "      <td>B</td>\n",
              "      <td>A</td>\n",
              "      <td>A</td>\n",
              "      <td>B</td>\n",
              "      <td>B</td>\n",
              "      <td>A</td>\n",
              "      <td>C</td>\n",
              "      <td>A</td>\n",
              "      <td>B</td>\n",
              "      <td>B</td>\n",
              "      <td>A</td>\n",
              "      <td>A</td>\n",
              "    </tr>\n",
              "    <tr>\n",
              "      <th>4</th>\n",
              "      <td>180008787987</td>\n",
              "      <td>2018</td>\n",
              "      <td>2918100</td>\n",
              "      <td>Jeremoabo</td>\n",
              "      <td>29</td>\n",
              "      <td>BA</td>\n",
              "      <td>20.0</td>\n",
              "      <td>M</td>\n",
              "      <td>0.0</td>\n",
              "      <td>0</td>\n",
              "      <td>1</td>\n",
              "      <td>2800308.0</td>\n",
              "      <td>Aracaju</td>\n",
              "      <td>28.0</td>\n",
              "      <td>SE</td>\n",
              "      <td>2</td>\n",
              "      <td>0</td>\n",
              "      <td>2</td>\n",
              "      <td>1.0</td>\n",
              "      <td>0</td>\n",
              "      <td>29112699.0</td>\n",
              "      <td>2918100.0</td>\n",
              "      <td>Jeremoabo</td>\n",
              "      <td>29.0</td>\n",
              "      <td>BA</td>\n",
              "      <td>2.0</td>\n",
              "      <td>1.0</td>\n",
              "      <td>1.0</td>\n",
              "      <td>0</td>\n",
              "      <td>0</td>\n",
              "      <td>0</td>\n",
              "      <td>0</td>\n",
              "      <td>0</td>\n",
              "      <td>0</td>\n",
              "      <td>0</td>\n",
              "      <td>0</td>\n",
              "      <td>0</td>\n",
              "      <td>0</td>\n",
              "      <td>0</td>\n",
              "      <td>0</td>\n",
              "      <td>...</td>\n",
              "      <td>NaN</td>\n",
              "      <td>1</td>\n",
              "      <td>NaN</td>\n",
              "      <td>CDECAABBDDECBEEDBEBBEBEDEEEBCEAEECECCDBDDCACD</td>\n",
              "      <td>CBEDBBBDCBECADBBBECBEAECABDADACDBABCECBBEDADAB...</td>\n",
              "      <td>NaN</td>\n",
              "      <td>1.0</td>\n",
              "      <td>140.0</td>\n",
              "      <td>40.0</td>\n",
              "      <td>40.0</td>\n",
              "      <td>120.0</td>\n",
              "      <td>20.0</td>\n",
              "      <td>360.0</td>\n",
              "      <td>C</td>\n",
              "      <td>E</td>\n",
              "      <td>A</td>\n",
              "      <td>D</td>\n",
              "      <td>3</td>\n",
              "      <td>B</td>\n",
              "      <td>A</td>\n",
              "      <td>B</td>\n",
              "      <td>C</td>\n",
              "      <td>A</td>\n",
              "      <td>B</td>\n",
              "      <td>B</td>\n",
              "      <td>A</td>\n",
              "      <td>A</td>\n",
              "      <td>A</td>\n",
              "      <td>A</td>\n",
              "      <td>A</td>\n",
              "      <td>A</td>\n",
              "      <td>B</td>\n",
              "      <td>A</td>\n",
              "      <td>A</td>\n",
              "      <td>B</td>\n",
              "      <td>A</td>\n",
              "      <td>B</td>\n",
              "      <td>B</td>\n",
              "      <td>B</td>\n",
              "      <td>A</td>\n",
              "    </tr>\n",
              "  </tbody>\n",
              "</table>\n",
              "<p>5 rows × 137 columns</p>\n",
              "</div>"
            ],
            "text/plain": [
              "   NU_INSCRICAO  NU_ANO  CO_MUNICIPIO_RESIDENCIA  ... Q025  Q026 Q027\n",
              "0  180008202043    2018                  5300108  ...    A     B    A\n",
              "1  180007197856    2018                  2111102  ...    A     A    A\n",
              "2  180008517434    2018                  3530607  ...    B     A    A\n",
              "3  180007661228    2018                  2916401  ...    B     A    A\n",
              "4  180008787987    2018                  2918100  ...    B     B    A\n",
              "\n",
              "[5 rows x 137 columns]"
            ]
          },
          "metadata": {},
          "execution_count": 12
        }
      ]
    },
    {
      "cell_type": "code",
      "metadata": {
        "colab": {
          "base_uri": "https://localhost:8080/"
        },
        "id": "WSYMfT_fsz7L",
        "outputId": "99df7ccc-fd4a-4344-e7be-079eb825b041"
      },
      "source": [
        "microdadosEnem.shape"
      ],
      "execution_count": null,
      "outputs": [
        {
          "output_type": "execute_result",
          "data": {
            "text/plain": [
              "(100000, 137)"
            ]
          },
          "metadata": {},
          "execution_count": 13
        }
      ]
    },
    {
      "cell_type": "code",
      "metadata": {
        "colab": {
          "base_uri": "https://localhost:8080/"
        },
        "id": "Gzl-Bf40twj4",
        "outputId": "caf39cb5-78fd-4cac-e54b-1baa7de0ce61"
      },
      "source": [
        "microdadosEnem.columns.values"
      ],
      "execution_count": null,
      "outputs": [
        {
          "output_type": "execute_result",
          "data": {
            "text/plain": [
              "array(['NU_INSCRICAO', 'NU_ANO', 'CO_MUNICIPIO_RESIDENCIA',\n",
              "       'NO_MUNICIPIO_RESIDENCIA', 'CO_UF_RESIDENCIA', 'SG_UF_RESIDENCIA',\n",
              "       'NU_IDADE', 'TP_SEXO', 'TP_ESTADO_CIVIL', 'TP_COR_RACA',\n",
              "       'TP_NACIONALIDADE', 'CO_MUNICIPIO_NASCIMENTO',\n",
              "       'NO_MUNICIPIO_NASCIMENTO', 'CO_UF_NASCIMENTO', 'SG_UF_NASCIMENTO',\n",
              "       'TP_ST_CONCLUSAO', 'TP_ANO_CONCLUIU', 'TP_ESCOLA', 'TP_ENSINO',\n",
              "       'IN_TREINEIRO', 'CO_ESCOLA', 'CO_MUNICIPIO_ESC',\n",
              "       'NO_MUNICIPIO_ESC', 'CO_UF_ESC', 'SG_UF_ESC',\n",
              "       'TP_DEPENDENCIA_ADM_ESC', 'TP_LOCALIZACAO_ESC', 'TP_SIT_FUNC_ESC',\n",
              "       'IN_BAIXA_VISAO', 'IN_CEGUEIRA', 'IN_SURDEZ',\n",
              "       'IN_DEFICIENCIA_AUDITIVA', 'IN_SURDO_CEGUEIRA',\n",
              "       'IN_DEFICIENCIA_FISICA', 'IN_DEFICIENCIA_MENTAL',\n",
              "       'IN_DEFICIT_ATENCAO', 'IN_DISLEXIA', 'IN_DISCALCULIA',\n",
              "       'IN_AUTISMO', 'IN_VISAO_MONOCULAR', 'IN_OUTRA_DEF', 'IN_GESTANTE',\n",
              "       'IN_LACTANTE', 'IN_IDOSO', 'IN_ESTUDA_CLASSE_HOSPITALAR',\n",
              "       'IN_SEM_RECURSO', 'IN_BRAILLE', 'IN_AMPLIADA_24', 'IN_AMPLIADA_18',\n",
              "       'IN_LEDOR', 'IN_ACESSO', 'IN_TRANSCRICAO', 'IN_LIBRAS',\n",
              "       'IN_LEITURA_LABIAL', 'IN_MESA_CADEIRA_RODAS',\n",
              "       'IN_MESA_CADEIRA_SEPARADA', 'IN_APOIO_PERNA', 'IN_GUIA_INTERPRETE',\n",
              "       'IN_COMPUTADOR', 'IN_CADEIRA_ESPECIAL', 'IN_CADEIRA_CANHOTO',\n",
              "       'IN_CADEIRA_ACOLCHOADA', 'IN_PROVA_DEITADO', 'IN_MOBILIARIO_OBESO',\n",
              "       'IN_LAMINA_OVERLAY', 'IN_PROTETOR_AURICULAR', 'IN_MEDIDOR_GLICOSE',\n",
              "       'IN_MAQUINA_BRAILE', 'IN_SOROBAN', 'IN_MARCA_PASSO', 'IN_SONDA',\n",
              "       'IN_MEDICAMENTOS', 'IN_SALA_INDIVIDUAL', 'IN_SALA_ESPECIAL',\n",
              "       'IN_SALA_ACOMPANHANTE', 'IN_MOBILIARIO_ESPECIFICO',\n",
              "       'IN_MATERIAL_ESPECIFICO', 'IN_NOME_SOCIAL', 'CO_MUNICIPIO_PROVA',\n",
              "       'NO_MUNICIPIO_PROVA', 'CO_UF_PROVA', 'SG_UF_PROVA',\n",
              "       'TP_PRESENCA_CN', 'TP_PRESENCA_CH', 'TP_PRESENCA_LC',\n",
              "       'TP_PRESENCA_MT', 'CO_PROVA_CN', 'CO_PROVA_CH', 'CO_PROVA_LC',\n",
              "       'CO_PROVA_MT', 'NU_NOTA_CN', 'NU_NOTA_CH', 'NU_NOTA_LC',\n",
              "       'NU_NOTA_MT', 'TX_RESPOSTAS_CN', 'TX_RESPOSTAS_CH',\n",
              "       'TX_RESPOSTAS_LC', 'TX_RESPOSTAS_MT', 'TP_LINGUA',\n",
              "       'TX_GABARITO_CN', 'TX_GABARITO_CH', 'TX_GABARITO_LC',\n",
              "       'TX_GABARITO_MT', 'TP_STATUS_REDACAO', 'NU_NOTA_COMP1',\n",
              "       'NU_NOTA_COMP2', 'NU_NOTA_COMP3', 'NU_NOTA_COMP4', 'NU_NOTA_COMP5',\n",
              "       'NU_NOTA_REDACAO', 'Q001', 'Q002', 'Q003', 'Q004', 'Q005', 'Q006',\n",
              "       'Q007', 'Q008', 'Q009', 'Q010', 'Q011', 'Q012', 'Q013', 'Q014',\n",
              "       'Q015', 'Q016', 'Q017', 'Q018', 'Q019', 'Q020', 'Q021', 'Q022',\n",
              "       'Q023', 'Q024', 'Q025', 'Q026', 'Q027'], dtype=object)"
            ]
          },
          "metadata": {},
          "execution_count": 15
        }
      ]
    },
    {
      "cell_type": "code",
      "metadata": {
        "id": "kU2hxSket9vl"
      },
      "source": [
        "colunasSelecionadasEnem = ['NO_MUNICIPIO_RESIDENCIA', 'SG_UF_RESIDENCIA',\n",
        "       'NU_IDADE', 'TP_SEXO', 'TP_ESTADO_CIVIL', 'TP_COR_RACA',\n",
        "       'TP_NACIONALIDADE',\n",
        "       'NO_MUNICIPIO_NASCIMENTO', 'SG_UF_NASCIMENTO',\n",
        "       'IN_BAIXA_VISAO', 'IN_CEGUEIRA', 'IN_SURDEZ',\n",
        "       'IN_DEFICIENCIA_AUDITIVA', 'IN_SURDO_CEGUEIRA',\n",
        "       'IN_DEFICIENCIA_FISICA', 'IN_DEFICIENCIA_MENTAL',\n",
        "       'IN_DEFICIT_ATENCAO', 'IN_DISLEXIA', 'IN_DISCALCULIA',\n",
        "       'IN_AUTISMO', 'IN_VISAO_MONOCULAR', 'IN_OUTRA_DEF', 'IN_GESTANTE',\n",
        "       'IN_LACTANTE', 'IN_IDOSO', 'IN_ESTUDA_CLASSE_HOSPITALAR',\n",
        "       'IN_SEM_RECURSO', 'IN_BRAILLE', 'IN_AMPLIADA_24', 'IN_AMPLIADA_18',\n",
        "       'IN_LEDOR', 'IN_ACESSO', 'IN_TRANSCRICAO', 'IN_LIBRAS',\n",
        "       'IN_LEITURA_LABIAL', 'IN_MESA_CADEIRA_RODAS',\n",
        "       'IN_MESA_CADEIRA_SEPARADA', 'IN_APOIO_PERNA', 'IN_GUIA_INTERPRETE',\n",
        "       'IN_COMPUTADOR', 'IN_CADEIRA_ESPECIAL', 'IN_CADEIRA_CANHOTO',\n",
        "       'IN_CADEIRA_ACOLCHOADA', 'IN_PROVA_DEITADO', 'IN_MOBILIARIO_OBESO',\n",
        "       'IN_LAMINA_OVERLAY', 'IN_PROTETOR_AURICULAR', 'IN_MEDIDOR_GLICOSE',\n",
        "       'IN_MAQUINA_BRAILE', 'IN_SOROBAN', 'IN_MARCA_PASSO', 'IN_SONDA',\n",
        "       'IN_MEDICAMENTOS', 'IN_SALA_INDIVIDUAL', 'IN_SALA_ESPECIAL',\n",
        "       'IN_SALA_ACOMPANHANTE', 'IN_MOBILIARIO_ESPECIFICO',\n",
        "       'IN_MATERIAL_ESPECIFICO', 'IN_NOME_SOCIAL']"
      ],
      "execution_count": null,
      "outputs": []
    },
    {
      "cell_type": "code",
      "metadata": {
        "id": "6_PHaXvuvGjc"
      },
      "source": [
        "microdadosEnemSelecionado = microdadosEnem.filter(items=colunasSelecionadasEnem)"
      ],
      "execution_count": null,
      "outputs": []
    },
    {
      "cell_type": "code",
      "metadata": {
        "colab": {
          "base_uri": "https://localhost:8080/",
          "height": 226
        },
        "id": "hIYNR4CNvMaS",
        "outputId": "cfe1ba71-527e-4570-a567-22eb6dadae72"
      },
      "source": [
        "microdadosEnemSelecionado.head()"
      ],
      "execution_count": null,
      "outputs": [
        {
          "output_type": "execute_result",
          "data": {
            "text/html": [
              "<div>\n",
              "<style scoped>\n",
              "    .dataframe tbody tr th:only-of-type {\n",
              "        vertical-align: middle;\n",
              "    }\n",
              "\n",
              "    .dataframe tbody tr th {\n",
              "        vertical-align: top;\n",
              "    }\n",
              "\n",
              "    .dataframe thead th {\n",
              "        text-align: right;\n",
              "    }\n",
              "</style>\n",
              "<table border=\"1\" class=\"dataframe\">\n",
              "  <thead>\n",
              "    <tr style=\"text-align: right;\">\n",
              "      <th></th>\n",
              "      <th>NO_MUNICIPIO_RESIDENCIA</th>\n",
              "      <th>SG_UF_RESIDENCIA</th>\n",
              "      <th>NU_IDADE</th>\n",
              "      <th>TP_SEXO</th>\n",
              "      <th>TP_ESTADO_CIVIL</th>\n",
              "      <th>TP_COR_RACA</th>\n",
              "      <th>TP_NACIONALIDADE</th>\n",
              "      <th>NO_MUNICIPIO_NASCIMENTO</th>\n",
              "      <th>SG_UF_NASCIMENTO</th>\n",
              "      <th>IN_BAIXA_VISAO</th>\n",
              "      <th>IN_CEGUEIRA</th>\n",
              "      <th>IN_SURDEZ</th>\n",
              "      <th>IN_DEFICIENCIA_AUDITIVA</th>\n",
              "      <th>IN_SURDO_CEGUEIRA</th>\n",
              "      <th>IN_DEFICIENCIA_FISICA</th>\n",
              "      <th>IN_DEFICIENCIA_MENTAL</th>\n",
              "      <th>IN_DEFICIT_ATENCAO</th>\n",
              "      <th>IN_DISLEXIA</th>\n",
              "      <th>IN_DISCALCULIA</th>\n",
              "      <th>IN_AUTISMO</th>\n",
              "      <th>IN_VISAO_MONOCULAR</th>\n",
              "      <th>IN_OUTRA_DEF</th>\n",
              "      <th>IN_GESTANTE</th>\n",
              "      <th>IN_LACTANTE</th>\n",
              "      <th>IN_IDOSO</th>\n",
              "      <th>IN_ESTUDA_CLASSE_HOSPITALAR</th>\n",
              "      <th>IN_SEM_RECURSO</th>\n",
              "      <th>IN_BRAILLE</th>\n",
              "      <th>IN_AMPLIADA_24</th>\n",
              "      <th>IN_AMPLIADA_18</th>\n",
              "      <th>IN_LEDOR</th>\n",
              "      <th>IN_ACESSO</th>\n",
              "      <th>IN_TRANSCRICAO</th>\n",
              "      <th>IN_LIBRAS</th>\n",
              "      <th>IN_LEITURA_LABIAL</th>\n",
              "      <th>IN_MESA_CADEIRA_RODAS</th>\n",
              "      <th>IN_MESA_CADEIRA_SEPARADA</th>\n",
              "      <th>IN_APOIO_PERNA</th>\n",
              "      <th>IN_GUIA_INTERPRETE</th>\n",
              "      <th>IN_COMPUTADOR</th>\n",
              "      <th>IN_CADEIRA_ESPECIAL</th>\n",
              "      <th>IN_CADEIRA_CANHOTO</th>\n",
              "      <th>IN_CADEIRA_ACOLCHOADA</th>\n",
              "      <th>IN_PROVA_DEITADO</th>\n",
              "      <th>IN_MOBILIARIO_OBESO</th>\n",
              "      <th>IN_LAMINA_OVERLAY</th>\n",
              "      <th>IN_PROTETOR_AURICULAR</th>\n",
              "      <th>IN_MEDIDOR_GLICOSE</th>\n",
              "      <th>IN_MAQUINA_BRAILE</th>\n",
              "      <th>IN_SOROBAN</th>\n",
              "      <th>IN_MARCA_PASSO</th>\n",
              "      <th>IN_SONDA</th>\n",
              "      <th>IN_MEDICAMENTOS</th>\n",
              "      <th>IN_SALA_INDIVIDUAL</th>\n",
              "      <th>IN_SALA_ESPECIAL</th>\n",
              "      <th>IN_SALA_ACOMPANHANTE</th>\n",
              "      <th>IN_MOBILIARIO_ESPECIFICO</th>\n",
              "      <th>IN_MATERIAL_ESPECIFICO</th>\n",
              "      <th>IN_NOME_SOCIAL</th>\n",
              "    </tr>\n",
              "  </thead>\n",
              "  <tbody>\n",
              "    <tr>\n",
              "      <th>0</th>\n",
              "      <td>Brasília</td>\n",
              "      <td>DF</td>\n",
              "      <td>44.0</td>\n",
              "      <td>M</td>\n",
              "      <td>1.0</td>\n",
              "      <td>1</td>\n",
              "      <td>0</td>\n",
              "      <td>NaN</td>\n",
              "      <td>NaN</td>\n",
              "      <td>0</td>\n",
              "      <td>0</td>\n",
              "      <td>0</td>\n",
              "      <td>0</td>\n",
              "      <td>0</td>\n",
              "      <td>0</td>\n",
              "      <td>0</td>\n",
              "      <td>0</td>\n",
              "      <td>0</td>\n",
              "      <td>0</td>\n",
              "      <td>0</td>\n",
              "      <td>0</td>\n",
              "      <td>0</td>\n",
              "      <td>0</td>\n",
              "      <td>0</td>\n",
              "      <td>0</td>\n",
              "      <td>0</td>\n",
              "      <td>0</td>\n",
              "      <td>0</td>\n",
              "      <td>0</td>\n",
              "      <td>0</td>\n",
              "      <td>0</td>\n",
              "      <td>0</td>\n",
              "      <td>0</td>\n",
              "      <td>0</td>\n",
              "      <td>0</td>\n",
              "      <td>0</td>\n",
              "      <td>0</td>\n",
              "      <td>0</td>\n",
              "      <td>0</td>\n",
              "      <td>0</td>\n",
              "      <td>0</td>\n",
              "      <td>0</td>\n",
              "      <td>0</td>\n",
              "      <td>0</td>\n",
              "      <td>0</td>\n",
              "      <td>0</td>\n",
              "      <td>0</td>\n",
              "      <td>0</td>\n",
              "      <td>0</td>\n",
              "      <td>0</td>\n",
              "      <td>0</td>\n",
              "      <td>0</td>\n",
              "      <td>0</td>\n",
              "      <td>0</td>\n",
              "      <td>0</td>\n",
              "      <td>0</td>\n",
              "      <td>0</td>\n",
              "      <td>0</td>\n",
              "      <td>0</td>\n",
              "    </tr>\n",
              "    <tr>\n",
              "      <th>1</th>\n",
              "      <td>São João dos Patos</td>\n",
              "      <td>MA</td>\n",
              "      <td>23.0</td>\n",
              "      <td>F</td>\n",
              "      <td>0.0</td>\n",
              "      <td>3</td>\n",
              "      <td>1</td>\n",
              "      <td>São João dos Patos</td>\n",
              "      <td>MA</td>\n",
              "      <td>0</td>\n",
              "      <td>0</td>\n",
              "      <td>0</td>\n",
              "      <td>0</td>\n",
              "      <td>0</td>\n",
              "      <td>0</td>\n",
              "      <td>0</td>\n",
              "      <td>0</td>\n",
              "      <td>0</td>\n",
              "      <td>0</td>\n",
              "      <td>0</td>\n",
              "      <td>0</td>\n",
              "      <td>0</td>\n",
              "      <td>0</td>\n",
              "      <td>0</td>\n",
              "      <td>0</td>\n",
              "      <td>0</td>\n",
              "      <td>0</td>\n",
              "      <td>0</td>\n",
              "      <td>0</td>\n",
              "      <td>0</td>\n",
              "      <td>0</td>\n",
              "      <td>0</td>\n",
              "      <td>0</td>\n",
              "      <td>0</td>\n",
              "      <td>0</td>\n",
              "      <td>0</td>\n",
              "      <td>0</td>\n",
              "      <td>0</td>\n",
              "      <td>0</td>\n",
              "      <td>0</td>\n",
              "      <td>0</td>\n",
              "      <td>0</td>\n",
              "      <td>0</td>\n",
              "      <td>0</td>\n",
              "      <td>0</td>\n",
              "      <td>0</td>\n",
              "      <td>0</td>\n",
              "      <td>0</td>\n",
              "      <td>0</td>\n",
              "      <td>0</td>\n",
              "      <td>0</td>\n",
              "      <td>0</td>\n",
              "      <td>0</td>\n",
              "      <td>0</td>\n",
              "      <td>0</td>\n",
              "      <td>0</td>\n",
              "      <td>0</td>\n",
              "      <td>0</td>\n",
              "      <td>0</td>\n",
              "    </tr>\n",
              "    <tr>\n",
              "      <th>2</th>\n",
              "      <td>Mogi das Cruzes</td>\n",
              "      <td>SP</td>\n",
              "      <td>23.0</td>\n",
              "      <td>F</td>\n",
              "      <td>0.0</td>\n",
              "      <td>1</td>\n",
              "      <td>1</td>\n",
              "      <td>Lages</td>\n",
              "      <td>SC</td>\n",
              "      <td>0</td>\n",
              "      <td>0</td>\n",
              "      <td>0</td>\n",
              "      <td>0</td>\n",
              "      <td>0</td>\n",
              "      <td>0</td>\n",
              "      <td>0</td>\n",
              "      <td>0</td>\n",
              "      <td>0</td>\n",
              "      <td>0</td>\n",
              "      <td>0</td>\n",
              "      <td>0</td>\n",
              "      <td>0</td>\n",
              "      <td>0</td>\n",
              "      <td>0</td>\n",
              "      <td>0</td>\n",
              "      <td>0</td>\n",
              "      <td>0</td>\n",
              "      <td>0</td>\n",
              "      <td>0</td>\n",
              "      <td>0</td>\n",
              "      <td>0</td>\n",
              "      <td>0</td>\n",
              "      <td>0</td>\n",
              "      <td>0</td>\n",
              "      <td>0</td>\n",
              "      <td>0</td>\n",
              "      <td>0</td>\n",
              "      <td>0</td>\n",
              "      <td>0</td>\n",
              "      <td>0</td>\n",
              "      <td>0</td>\n",
              "      <td>0</td>\n",
              "      <td>0</td>\n",
              "      <td>0</td>\n",
              "      <td>0</td>\n",
              "      <td>0</td>\n",
              "      <td>0</td>\n",
              "      <td>0</td>\n",
              "      <td>0</td>\n",
              "      <td>0</td>\n",
              "      <td>0</td>\n",
              "      <td>0</td>\n",
              "      <td>0</td>\n",
              "      <td>0</td>\n",
              "      <td>0</td>\n",
              "      <td>0</td>\n",
              "      <td>0</td>\n",
              "      <td>0</td>\n",
              "      <td>0</td>\n",
              "    </tr>\n",
              "    <tr>\n",
              "      <th>3</th>\n",
              "      <td>Itapetinga</td>\n",
              "      <td>BA</td>\n",
              "      <td>26.0</td>\n",
              "      <td>F</td>\n",
              "      <td>0.0</td>\n",
              "      <td>3</td>\n",
              "      <td>2</td>\n",
              "      <td>NaN</td>\n",
              "      <td>NaN</td>\n",
              "      <td>0</td>\n",
              "      <td>0</td>\n",
              "      <td>0</td>\n",
              "      <td>0</td>\n",
              "      <td>0</td>\n",
              "      <td>0</td>\n",
              "      <td>0</td>\n",
              "      <td>0</td>\n",
              "      <td>0</td>\n",
              "      <td>0</td>\n",
              "      <td>0</td>\n",
              "      <td>0</td>\n",
              "      <td>0</td>\n",
              "      <td>0</td>\n",
              "      <td>0</td>\n",
              "      <td>0</td>\n",
              "      <td>0</td>\n",
              "      <td>0</td>\n",
              "      <td>0</td>\n",
              "      <td>0</td>\n",
              "      <td>0</td>\n",
              "      <td>0</td>\n",
              "      <td>0</td>\n",
              "      <td>0</td>\n",
              "      <td>0</td>\n",
              "      <td>0</td>\n",
              "      <td>0</td>\n",
              "      <td>0</td>\n",
              "      <td>0</td>\n",
              "      <td>0</td>\n",
              "      <td>0</td>\n",
              "      <td>0</td>\n",
              "      <td>0</td>\n",
              "      <td>0</td>\n",
              "      <td>0</td>\n",
              "      <td>0</td>\n",
              "      <td>0</td>\n",
              "      <td>0</td>\n",
              "      <td>0</td>\n",
              "      <td>0</td>\n",
              "      <td>0</td>\n",
              "      <td>0</td>\n",
              "      <td>0</td>\n",
              "      <td>0</td>\n",
              "      <td>0</td>\n",
              "      <td>0</td>\n",
              "      <td>0</td>\n",
              "      <td>0</td>\n",
              "      <td>0</td>\n",
              "      <td>0</td>\n",
              "    </tr>\n",
              "    <tr>\n",
              "      <th>4</th>\n",
              "      <td>Jeremoabo</td>\n",
              "      <td>BA</td>\n",
              "      <td>20.0</td>\n",
              "      <td>M</td>\n",
              "      <td>0.0</td>\n",
              "      <td>0</td>\n",
              "      <td>1</td>\n",
              "      <td>Aracaju</td>\n",
              "      <td>SE</td>\n",
              "      <td>0</td>\n",
              "      <td>0</td>\n",
              "      <td>0</td>\n",
              "      <td>0</td>\n",
              "      <td>0</td>\n",
              "      <td>0</td>\n",
              "      <td>0</td>\n",
              "      <td>0</td>\n",
              "      <td>0</td>\n",
              "      <td>0</td>\n",
              "      <td>0</td>\n",
              "      <td>0</td>\n",
              "      <td>0</td>\n",
              "      <td>0</td>\n",
              "      <td>0</td>\n",
              "      <td>0</td>\n",
              "      <td>0</td>\n",
              "      <td>0</td>\n",
              "      <td>0</td>\n",
              "      <td>0</td>\n",
              "      <td>0</td>\n",
              "      <td>0</td>\n",
              "      <td>0</td>\n",
              "      <td>0</td>\n",
              "      <td>0</td>\n",
              "      <td>0</td>\n",
              "      <td>0</td>\n",
              "      <td>0</td>\n",
              "      <td>0</td>\n",
              "      <td>0</td>\n",
              "      <td>0</td>\n",
              "      <td>0</td>\n",
              "      <td>0</td>\n",
              "      <td>0</td>\n",
              "      <td>0</td>\n",
              "      <td>0</td>\n",
              "      <td>0</td>\n",
              "      <td>0</td>\n",
              "      <td>0</td>\n",
              "      <td>0</td>\n",
              "      <td>0</td>\n",
              "      <td>0</td>\n",
              "      <td>0</td>\n",
              "      <td>0</td>\n",
              "      <td>0</td>\n",
              "      <td>0</td>\n",
              "      <td>0</td>\n",
              "      <td>0</td>\n",
              "      <td>0</td>\n",
              "      <td>0</td>\n",
              "    </tr>\n",
              "  </tbody>\n",
              "</table>\n",
              "</div>"
            ],
            "text/plain": [
              "  NO_MUNICIPIO_RESIDENCIA  ... IN_NOME_SOCIAL\n",
              "0                Brasília  ...              0\n",
              "1      São João dos Patos  ...              0\n",
              "2         Mogi das Cruzes  ...              0\n",
              "3              Itapetinga  ...              0\n",
              "4               Jeremoabo  ...              0\n",
              "\n",
              "[5 rows x 59 columns]"
            ]
          },
          "metadata": {},
          "execution_count": 19
        }
      ]
    },
    {
      "cell_type": "code",
      "metadata": {
        "id": "lsleJNquvQIx"
      },
      "source": [
        "colunaNomeMunicipioResidencia = microdadosEnemSelecionado['NO_MUNICIPIO_RESIDENCIA']"
      ],
      "execution_count": null,
      "outputs": []
    },
    {
      "cell_type": "code",
      "metadata": {
        "colab": {
          "base_uri": "https://localhost:8080/"
        },
        "id": "wPOA_LF_vsG4",
        "outputId": "250ae4d9-1836-4229-f363-dcf706fbfae2"
      },
      "source": [
        "colunaNomeMunicipioResidencia"
      ],
      "execution_count": null,
      "outputs": [
        {
          "output_type": "execute_result",
          "data": {
            "text/plain": [
              "0                     Brasília\n",
              "1           São João dos Patos\n",
              "2              Mogi das Cruzes\n",
              "3                   Itapetinga\n",
              "4                    Jeremoabo\n",
              "                 ...          \n",
              "99995              Sertãozinho\n",
              "99996                 Teresina\n",
              "99997                 São Luís\n",
              "99998    Conceição do Araguaia\n",
              "99999                    Patos\n",
              "Name: NO_MUNICIPIO_RESIDENCIA, Length: 100000, dtype: object"
            ]
          },
          "metadata": {},
          "execution_count": 21
        }
      ]
    },
    {
      "cell_type": "code",
      "metadata": {
        "colab": {
          "base_uri": "https://localhost:8080/"
        },
        "id": "OAqMVZPEvuli",
        "outputId": "cb25f127-bb23-49f5-fa2e-13c723f3c2a3"
      },
      "source": [
        "colunaNomeMunicipioResidencia.value_counts().sort_index()"
      ],
      "execution_count": null,
      "outputs": [
        {
          "output_type": "execute_result",
          "data": {
            "text/plain": [
              "Abadia de Goiás         10\n",
              "Abadia dos Dourados      1\n",
              "Abadiânia                4\n",
              "Abaetetuba             132\n",
              "Abaeté                   6\n",
              "                      ... \n",
              "Álvares Machado          5\n",
              "Álvaro de Carvalho       1\n",
              "Áurea                    1\n",
              "Érico Cardoso            1\n",
              "Óbidos                  17\n",
              "Name: NO_MUNICIPIO_RESIDENCIA, Length: 4369, dtype: int64"
            ]
          },
          "metadata": {},
          "execution_count": 24
        }
      ]
    },
    {
      "cell_type": "code",
      "metadata": {
        "id": "3uG2DbmOv86Q"
      },
      "source": [
        "colunaIdade = microdadosEnemSelecionado['NU_IDADE']"
      ],
      "execution_count": null,
      "outputs": []
    },
    {
      "cell_type": "code",
      "metadata": {
        "colab": {
          "base_uri": "https://localhost:8080/"
        },
        "id": "S0Yt27jSwAt8",
        "outputId": "3da87c8d-1c0e-4b39-bc80-187b85933a48"
      },
      "source": [
        "colunaIdade.value_counts().sort_index()"
      ],
      "execution_count": null,
      "outputs": [
        {
          "output_type": "execute_result",
          "data": {
            "text/plain": [
              "12.0       1\n",
              "13.0       1\n",
              "14.0      31\n",
              "15.0     370\n",
              "16.0    2075\n",
              "        ... \n",
              "72.0       1\n",
              "73.0       1\n",
              "76.0       2\n",
              "78.0       1\n",
              "86.0       1\n",
              "Name: NU_IDADE, Length: 64, dtype: int64"
            ]
          },
          "metadata": {},
          "execution_count": 26
        }
      ]
    },
    {
      "cell_type": "code",
      "metadata": {
        "colab": {
          "base_uri": "https://localhost:8080/",
          "height": 282
        },
        "id": "ZUrUVr7KwGOT",
        "outputId": "08255fd0-a481-4d81-9f4b-2eb8e1916505"
      },
      "source": [
        "colunaIdade.hist(bins=30)"
      ],
      "execution_count": null,
      "outputs": [
        {
          "output_type": "execute_result",
          "data": {
            "text/plain": [
              "<matplotlib.axes._subplots.AxesSubplot at 0x7f16c12a4610>"
            ]
          },
          "metadata": {},
          "execution_count": 28
        },
        {
          "output_type": "display_data",
          "data": {
            "image/png": "[encoded data removed]",
            "text/plain": [
              "<Figure size 432x288 with 1 Axes>"
            ]
          },
          "metadata": {
            "needs_background": "light"
          }
        }
      ]
    },
    {
      "cell_type": "code",
      "metadata": {
        "id": "0KJ9FAf-wP2v"
      },
      "source": [
        "colunaEstado = microdadosEnemSelecionado['SG_UF_RESIDENCIA']"
      ],
      "execution_count": null,
      "outputs": []
    },
    {
      "cell_type": "code",
      "metadata": {
        "colab": {
          "base_uri": "https://localhost:8080/"
        },
        "id": "qhe9SiQdwZdT",
        "outputId": "816f89e3-4171-46ba-f58b-6e8cc9374e7b"
      },
      "source": [
        "colunaEstado.value_counts()"
      ],
      "execution_count": null,
      "outputs": [
        {
          "output_type": "execute_result",
          "data": {
            "text/plain": [
              "SP    16301\n",
              "MG     9790\n",
              "BA     8736\n",
              "RJ     7880\n",
              "CE     7495\n",
              "PE     5840\n",
              "PA     4548\n",
              "RS     4408\n",
              "MA     3729\n",
              "PR     3601\n",
              "GO     3176\n",
              "RN     2567\n",
              "PB     2384\n",
              "ES     2265\n",
              "DF     2247\n",
              "SC     2167\n",
              "PI     1975\n",
              "AM     1756\n",
              "AL     1592\n",
              "MT     1466\n",
              "SE     1453\n",
              "RO     1179\n",
              "MS     1164\n",
              "TO      960\n",
              "AP      603\n",
              "AC      468\n",
              "RR      250\n",
              "Name: SG_UF_RESIDENCIA, dtype: int64"
            ]
          },
          "metadata": {},
          "execution_count": 30
        }
      ]
    },
    {
      "cell_type": "code",
      "metadata": {
        "colab": {
          "base_uri": "https://localhost:8080/",
          "height": 282
        },
        "id": "W-jbtIORwvdU",
        "outputId": "88967f95-8a95-44b2-d029-70cc69d8cb79"
      },
      "source": [
        "colunaEstado.hist(bins=27)"
      ],
      "execution_count": null,
      "outputs": [
        {
          "output_type": "execute_result",
          "data": {
            "text/plain": [
              "<matplotlib.axes._subplots.AxesSubplot at 0x7f16bffc71d0>"
            ]
          },
          "metadata": {},
          "execution_count": 33
        },
        {
          "output_type": "display_data",
          "data": {
            "image/png": "[encoded data removed]",
            "text/plain": [
              "<Figure size 432x288 with 1 Axes>"
            ]
          },
          "metadata": {
            "needs_background": "light"
          }
        }
      ]
    },
    {
      "cell_type": "code",
      "metadata": {
        "colab": {
          "base_uri": "https://localhost:8080/"
        },
        "id": "mz65HXo8wkJr",
        "outputId": "cb044fc1-c249-424d-bf2e-5d2f5c692098"
      },
      "source": [
        "colunaIdade.value_counts()"
      ],
      "execution_count": null,
      "outputs": [
        {
          "output_type": "execute_result",
          "data": {
            "text/plain": [
              "18.0    16635\n",
              "19.0    12657\n",
              "17.0    11421\n",
              "20.0     8607\n",
              "21.0     6634\n",
              "        ...  \n",
              "72.0        1\n",
              "78.0        1\n",
              "86.0        1\n",
              "12.0        1\n",
              "73.0        1\n",
              "Name: NU_IDADE, Length: 64, dtype: int64"
            ]
          },
          "metadata": {},
          "execution_count": 31
        }
      ]
    },
    {
      "cell_type": "code",
      "metadata": {
        "id": "G4Gnv1LJw09n"
      },
      "source": [
        "colunaGestante = microdadosEnemSelecionado['IN_GESTANTE']"
      ],
      "execution_count": null,
      "outputs": []
    },
    {
      "cell_type": "code",
      "metadata": {
        "id": "bByxGw3OxAoM"
      },
      "source": [
        "distInGestante = colunaGestante.value_counts()"
      ],
      "execution_count": null,
      "outputs": []
    },
    {
      "cell_type": "code",
      "metadata": {
        "id": "0XH8WKeCxEyt"
      },
      "source": [
        "percentInGestant = [100 * x / distInGestante.sum() for x in distInGestante]"
      ],
      "execution_count": null,
      "outputs": []
    },
    {
      "cell_type": "code",
      "metadata": {
        "colab": {
          "base_uri": "https://localhost:8080/"
        },
        "id": "tFdcxIpMxZft",
        "outputId": "74edf144-4eef-4b73-d3db-dc6a3f870fb2"
      },
      "source": [
        "percentInGestant"
      ],
      "execution_count": null,
      "outputs": [
        {
          "output_type": "execute_result",
          "data": {
            "text/plain": [
              "[99.951, 0.049]"
            ]
          },
          "metadata": {},
          "execution_count": 38
        }
      ]
    },
    {
      "cell_type": "code",
      "metadata": {
        "id": "uSX5gXsDxiEd"
      },
      "source": [
        "colunaSexo = microdadosEnemSelecionado['TP_SEXO']"
      ],
      "execution_count": null,
      "outputs": []
    },
    {
      "cell_type": "code",
      "metadata": {
        "id": "VziEnEMBxsJ3"
      },
      "source": [
        "distSexo = colunaSexo.value_counts()"
      ],
      "execution_count": null,
      "outputs": []
    },
    {
      "cell_type": "code",
      "metadata": {
        "id": "KynTud2QxyPG"
      },
      "source": [
        "percentSexo = [100 * x / distSexo.sum() for x in distSexo]"
      ],
      "execution_count": null,
      "outputs": []
    },
    {
      "cell_type": "code",
      "metadata": {
        "colab": {
          "base_uri": "https://localhost:8080/"
        },
        "id": "fZX3m5BSx28W",
        "outputId": "3921816e-4684-4e36-cb08-6a799abea974"
      },
      "source": [
        "percentSexo"
      ],
      "execution_count": null,
      "outputs": [
        {
          "output_type": "execute_result",
          "data": {
            "text/plain": [
              "[64.039, 35.961]"
            ]
          },
          "metadata": {},
          "execution_count": 43
        }
      ]
    },
    {
      "cell_type": "code",
      "metadata": {
        "id": "REJaNYPdx7Fc"
      },
      "source": [
        "sexoFemino = distSexo[0]"
      ],
      "execution_count": null,
      "outputs": []
    },
    {
      "cell_type": "code",
      "metadata": {
        "id": "4M7r5LFFyB4Y"
      },
      "source": [
        "nuGestante = distInGestante[1]"
      ],
      "execution_count": null,
      "outputs": []
    },
    {
      "cell_type": "code",
      "metadata": {
        "id": "eBHuKaYsyHtq"
      },
      "source": [
        "percentGestant = 100 * nuGestante / sexoFemino"
      ],
      "execution_count": null,
      "outputs": []
    },
    {
      "cell_type": "code",
      "metadata": {
        "colab": {
          "base_uri": "https://localhost:8080/"
        },
        "id": "LJF8xMbWyPbN",
        "outputId": "349be540-cb04-4ee4-9996-d5b98261cb8a"
      },
      "source": [
        "percentGestant"
      ],
      "execution_count": null,
      "outputs": [
        {
          "output_type": "execute_result",
          "data": {
            "text/plain": [
              "0.07651587313980543"
            ]
          },
          "metadata": {},
          "execution_count": 47
        }
      ]
    },
    {
      "cell_type": "markdown",
      "metadata": {
        "id": "ixC65OcRyxFE"
      },
      "source": [
        "Homens ou Mulheres e notas da redação"
      ]
    },
    {
      "cell_type": "markdown",
      "metadata": {
        "id": "Jpy43pU5y7Jx"
      },
      "source": [
        "Group BY"
      ]
    },
    {
      "cell_type": "code",
      "metadata": {
        "id": "TpOZ7MG8ywou"
      },
      "source": [
        "colunasAgrupadas = ['TP_SEXO', 'NU_NOTA_REDACAO']"
      ],
      "execution_count": null,
      "outputs": []
    },
    {
      "cell_type": "code",
      "metadata": {
        "id": "kwiX2k5_yRSa"
      },
      "source": [
        "microdadosEnemSexoRedacao = microdadosEnem.filter(items=colunasAgrupadas)"
      ],
      "execution_count": null,
      "outputs": []
    },
    {
      "cell_type": "code",
      "metadata": {
        "colab": {
          "base_uri": "https://localhost:8080/",
          "height": 206
        },
        "id": "REu4bPlJzVv_",
        "outputId": "628f2cd9-a8f9-4d54-994c-dae988f50cf7"
      },
      "source": [
        "microdadosEnemSexoRedacao.head()"
      ],
      "execution_count": null,
      "outputs": [
        {
          "output_type": "execute_result",
          "data": {
            "text/html": [
              "<div>\n",
              "<style scoped>\n",
              "    .dataframe tbody tr th:only-of-type {\n",
              "        vertical-align: middle;\n",
              "    }\n",
              "\n",
              "    .dataframe tbody tr th {\n",
              "        vertical-align: top;\n",
              "    }\n",
              "\n",
              "    .dataframe thead th {\n",
              "        text-align: right;\n",
              "    }\n",
              "</style>\n",
              "<table border=\"1\" class=\"dataframe\">\n",
              "  <thead>\n",
              "    <tr style=\"text-align: right;\">\n",
              "      <th></th>\n",
              "      <th>TP_SEXO</th>\n",
              "      <th>NU_NOTA_REDACAO</th>\n",
              "    </tr>\n",
              "  </thead>\n",
              "  <tbody>\n",
              "    <tr>\n",
              "      <th>0</th>\n",
              "      <td>M</td>\n",
              "      <td>NaN</td>\n",
              "    </tr>\n",
              "    <tr>\n",
              "      <th>1</th>\n",
              "      <td>F</td>\n",
              "      <td>280.0</td>\n",
              "    </tr>\n",
              "    <tr>\n",
              "      <th>2</th>\n",
              "      <td>F</td>\n",
              "      <td>NaN</td>\n",
              "    </tr>\n",
              "    <tr>\n",
              "      <th>3</th>\n",
              "      <td>F</td>\n",
              "      <td>NaN</td>\n",
              "    </tr>\n",
              "    <tr>\n",
              "      <th>4</th>\n",
              "      <td>M</td>\n",
              "      <td>360.0</td>\n",
              "    </tr>\n",
              "  </tbody>\n",
              "</table>\n",
              "</div>"
            ],
            "text/plain": [
              "  TP_SEXO  NU_NOTA_REDACAO\n",
              "0       M              NaN\n",
              "1       F            280.0\n",
              "2       F              NaN\n",
              "3       F              NaN\n",
              "4       M            360.0"
            ]
          },
          "metadata": {},
          "execution_count": 50
        }
      ]
    },
    {
      "cell_type": "code",
      "metadata": {
        "id": "WeQ0M6yszlea"
      },
      "source": [
        "microdadosEnemSexoRedacao = microdadosEnemSexoRedacao.dropna()"
      ],
      "execution_count": null,
      "outputs": []
    },
    {
      "cell_type": "code",
      "metadata": {
        "colab": {
          "base_uri": "https://localhost:8080/",
          "height": 206
        },
        "id": "aGVH18K5zr7e",
        "outputId": "be1c58c4-6ad5-40ad-8c8e-5455ab3342ed"
      },
      "source": [
        "microdadosEnemSexoRedacao.head()"
      ],
      "execution_count": null,
      "outputs": [
        {
          "output_type": "execute_result",
          "data": {
            "text/html": [
              "<div>\n",
              "<style scoped>\n",
              "    .dataframe tbody tr th:only-of-type {\n",
              "        vertical-align: middle;\n",
              "    }\n",
              "\n",
              "    .dataframe tbody tr th {\n",
              "        vertical-align: top;\n",
              "    }\n",
              "\n",
              "    .dataframe thead th {\n",
              "        text-align: right;\n",
              "    }\n",
              "</style>\n",
              "<table border=\"1\" class=\"dataframe\">\n",
              "  <thead>\n",
              "    <tr style=\"text-align: right;\">\n",
              "      <th></th>\n",
              "      <th>TP_SEXO</th>\n",
              "      <th>NU_NOTA_REDACAO</th>\n",
              "    </tr>\n",
              "  </thead>\n",
              "  <tbody>\n",
              "    <tr>\n",
              "      <th>1</th>\n",
              "      <td>F</td>\n",
              "      <td>280.0</td>\n",
              "    </tr>\n",
              "    <tr>\n",
              "      <th>4</th>\n",
              "      <td>M</td>\n",
              "      <td>360.0</td>\n",
              "    </tr>\n",
              "    <tr>\n",
              "      <th>5</th>\n",
              "      <td>F</td>\n",
              "      <td>580.0</td>\n",
              "    </tr>\n",
              "    <tr>\n",
              "      <th>7</th>\n",
              "      <td>M</td>\n",
              "      <td>680.0</td>\n",
              "    </tr>\n",
              "    <tr>\n",
              "      <th>8</th>\n",
              "      <td>M</td>\n",
              "      <td>340.0</td>\n",
              "    </tr>\n",
              "  </tbody>\n",
              "</table>\n",
              "</div>"
            ],
            "text/plain": [
              "  TP_SEXO  NU_NOTA_REDACAO\n",
              "1       F            280.0\n",
              "4       M            360.0\n",
              "5       F            580.0\n",
              "7       M            680.0\n",
              "8       M            340.0"
            ]
          },
          "metadata": {},
          "execution_count": 52
        }
      ]
    },
    {
      "cell_type": "code",
      "metadata": {
        "colab": {
          "base_uri": "https://localhost:8080/",
          "height": 144
        },
        "id": "dTMw3SDNzuLd",
        "outputId": "44035771-cb65-40a5-f571-bffd8c87375a"
      },
      "source": [
        "microdadosEnemSexoRedacao.groupby('TP_SEXO').count()"
      ],
      "execution_count": null,
      "outputs": [
        {
          "output_type": "execute_result",
          "data": {
            "text/html": [
              "<div>\n",
              "<style scoped>\n",
              "    .dataframe tbody tr th:only-of-type {\n",
              "        vertical-align: middle;\n",
              "    }\n",
              "\n",
              "    .dataframe tbody tr th {\n",
              "        vertical-align: top;\n",
              "    }\n",
              "\n",
              "    .dataframe thead th {\n",
              "        text-align: right;\n",
              "    }\n",
              "</style>\n",
              "<table border=\"1\" class=\"dataframe\">\n",
              "  <thead>\n",
              "    <tr style=\"text-align: right;\">\n",
              "      <th></th>\n",
              "      <th>NU_NOTA_REDACAO</th>\n",
              "    </tr>\n",
              "    <tr>\n",
              "      <th>TP_SEXO</th>\n",
              "      <th></th>\n",
              "    </tr>\n",
              "  </thead>\n",
              "  <tbody>\n",
              "    <tr>\n",
              "      <th>F</th>\n",
              "      <td>49659</td>\n",
              "    </tr>\n",
              "    <tr>\n",
              "      <th>M</th>\n",
              "      <td>27653</td>\n",
              "    </tr>\n",
              "  </tbody>\n",
              "</table>\n",
              "</div>"
            ],
            "text/plain": [
              "         NU_NOTA_REDACAO\n",
              "TP_SEXO                 \n",
              "F                  49659\n",
              "M                  27653"
            ]
          },
          "metadata": {},
          "execution_count": 53
        }
      ]
    },
    {
      "cell_type": "markdown",
      "metadata": {
        "id": "IxvegNc2z44J"
      },
      "source": [
        "De quem são as notas máximas na redação - Homens ou Mulheres?"
      ]
    },
    {
      "cell_type": "code",
      "metadata": {
        "colab": {
          "base_uri": "https://localhost:8080/",
          "height": 144
        },
        "id": "DwTWuse80HhC",
        "outputId": "22446dad-834c-40a6-ef24-7dee50c43dd2"
      },
      "source": [
        "microdadosEnemSexoRedacao.groupby('TP_SEXO').max()"
      ],
      "execution_count": null,
      "outputs": [
        {
          "output_type": "execute_result",
          "data": {
            "text/html": [
              "<div>\n",
              "<style scoped>\n",
              "    .dataframe tbody tr th:only-of-type {\n",
              "        vertical-align: middle;\n",
              "    }\n",
              "\n",
              "    .dataframe tbody tr th {\n",
              "        vertical-align: top;\n",
              "    }\n",
              "\n",
              "    .dataframe thead th {\n",
              "        text-align: right;\n",
              "    }\n",
              "</style>\n",
              "<table border=\"1\" class=\"dataframe\">\n",
              "  <thead>\n",
              "    <tr style=\"text-align: right;\">\n",
              "      <th></th>\n",
              "      <th>NU_NOTA_REDACAO</th>\n",
              "    </tr>\n",
              "    <tr>\n",
              "      <th>TP_SEXO</th>\n",
              "      <th></th>\n",
              "    </tr>\n",
              "  </thead>\n",
              "  <tbody>\n",
              "    <tr>\n",
              "      <th>F</th>\n",
              "      <td>980.0</td>\n",
              "    </tr>\n",
              "    <tr>\n",
              "      <th>M</th>\n",
              "      <td>980.0</td>\n",
              "    </tr>\n",
              "  </tbody>\n",
              "</table>\n",
              "</div>"
            ],
            "text/plain": [
              "         NU_NOTA_REDACAO\n",
              "TP_SEXO                 \n",
              "F                  980.0\n",
              "M                  980.0"
            ]
          },
          "metadata": {},
          "execution_count": 54
        }
      ]
    },
    {
      "cell_type": "code",
      "metadata": {
        "colab": {
          "base_uri": "https://localhost:8080/",
          "height": 144
        },
        "id": "E3MNBwLz0KQX",
        "outputId": "f23907d7-5b15-47d1-fc26-62667a1678ab"
      },
      "source": [
        "microdadosEnemSexoRedacao.groupby('TP_SEXO').min()"
      ],
      "execution_count": null,
      "outputs": [
        {
          "output_type": "execute_result",
          "data": {
            "text/html": [
              "<div>\n",
              "<style scoped>\n",
              "    .dataframe tbody tr th:only-of-type {\n",
              "        vertical-align: middle;\n",
              "    }\n",
              "\n",
              "    .dataframe tbody tr th {\n",
              "        vertical-align: top;\n",
              "    }\n",
              "\n",
              "    .dataframe thead th {\n",
              "        text-align: right;\n",
              "    }\n",
              "</style>\n",
              "<table border=\"1\" class=\"dataframe\">\n",
              "  <thead>\n",
              "    <tr style=\"text-align: right;\">\n",
              "      <th></th>\n",
              "      <th>NU_NOTA_REDACAO</th>\n",
              "    </tr>\n",
              "    <tr>\n",
              "      <th>TP_SEXO</th>\n",
              "      <th></th>\n",
              "    </tr>\n",
              "  </thead>\n",
              "  <tbody>\n",
              "    <tr>\n",
              "      <th>F</th>\n",
              "      <td>0.0</td>\n",
              "    </tr>\n",
              "    <tr>\n",
              "      <th>M</th>\n",
              "      <td>0.0</td>\n",
              "    </tr>\n",
              "  </tbody>\n",
              "</table>\n",
              "</div>"
            ],
            "text/plain": [
              "         NU_NOTA_REDACAO\n",
              "TP_SEXO                 \n",
              "F                    0.0\n",
              "M                    0.0"
            ]
          },
          "metadata": {},
          "execution_count": 55
        }
      ]
    },
    {
      "cell_type": "markdown",
      "metadata": {
        "id": "zuoBGRQB0W1V"
      },
      "source": [
        "COm minimo maior que zero\n"
      ]
    },
    {
      "cell_type": "code",
      "metadata": {
        "colab": {
          "base_uri": "https://localhost:8080/",
          "height": 144
        },
        "id": "Sq0RRRcg0a90",
        "outputId": "9c459a69-3fb7-4d11-a30c-67fbf787dd03"
      },
      "source": [
        "microdadosEnemSexoRedacao[microdadosEnemSexoRedacao.NU_NOTA_REDACAO > 0].groupby('TP_SEXO').min()"
      ],
      "execution_count": null,
      "outputs": [
        {
          "output_type": "execute_result",
          "data": {
            "text/html": [
              "<div>\n",
              "<style scoped>\n",
              "    .dataframe tbody tr th:only-of-type {\n",
              "        vertical-align: middle;\n",
              "    }\n",
              "\n",
              "    .dataframe tbody tr th {\n",
              "        vertical-align: top;\n",
              "    }\n",
              "\n",
              "    .dataframe thead th {\n",
              "        text-align: right;\n",
              "    }\n",
              "</style>\n",
              "<table border=\"1\" class=\"dataframe\">\n",
              "  <thead>\n",
              "    <tr style=\"text-align: right;\">\n",
              "      <th></th>\n",
              "      <th>NU_NOTA_REDACAO</th>\n",
              "    </tr>\n",
              "    <tr>\n",
              "      <th>TP_SEXO</th>\n",
              "      <th></th>\n",
              "    </tr>\n",
              "  </thead>\n",
              "  <tbody>\n",
              "    <tr>\n",
              "      <th>F</th>\n",
              "      <td>40.0</td>\n",
              "    </tr>\n",
              "    <tr>\n",
              "      <th>M</th>\n",
              "      <td>40.0</td>\n",
              "    </tr>\n",
              "  </tbody>\n",
              "</table>\n",
              "</div>"
            ],
            "text/plain": [
              "         NU_NOTA_REDACAO\n",
              "TP_SEXO                 \n",
              "F                   40.0\n",
              "M                   40.0"
            ]
          },
          "metadata": {},
          "execution_count": 56
        }
      ]
    },
    {
      "cell_type": "code",
      "metadata": {
        "colab": {
          "base_uri": "https://localhost:8080/",
          "height": 144
        },
        "id": "fK_K_8qC0pDY",
        "outputId": "e2133343-d70d-40a0-d7e0-c85c5b1a17fe"
      },
      "source": [
        "microdadosEnemSexoRedacao.groupby('TP_SEXO').mean()"
      ],
      "execution_count": null,
      "outputs": [
        {
          "output_type": "execute_result",
          "data": {
            "text/html": [
              "<div>\n",
              "<style scoped>\n",
              "    .dataframe tbody tr th:only-of-type {\n",
              "        vertical-align: middle;\n",
              "    }\n",
              "\n",
              "    .dataframe tbody tr th {\n",
              "        vertical-align: top;\n",
              "    }\n",
              "\n",
              "    .dataframe thead th {\n",
              "        text-align: right;\n",
              "    }\n",
              "</style>\n",
              "<table border=\"1\" class=\"dataframe\">\n",
              "  <thead>\n",
              "    <tr style=\"text-align: right;\">\n",
              "      <th></th>\n",
              "      <th>NU_NOTA_REDACAO</th>\n",
              "    </tr>\n",
              "    <tr>\n",
              "      <th>TP_SEXO</th>\n",
              "      <th></th>\n",
              "    </tr>\n",
              "  </thead>\n",
              "  <tbody>\n",
              "    <tr>\n",
              "      <th>F</th>\n",
              "      <td>537.446183</td>\n",
              "    </tr>\n",
              "    <tr>\n",
              "      <th>M</th>\n",
              "      <td>533.868296</td>\n",
              "    </tr>\n",
              "  </tbody>\n",
              "</table>\n",
              "</div>"
            ],
            "text/plain": [
              "         NU_NOTA_REDACAO\n",
              "TP_SEXO                 \n",
              "F             537.446183\n",
              "M             533.868296"
            ]
          },
          "metadata": {},
          "execution_count": 57
        }
      ]
    },
    {
      "cell_type": "code",
      "metadata": {
        "colab": {
          "base_uri": "https://localhost:8080/",
          "height": 144
        },
        "id": "Ae3y4mnD0ssM",
        "outputId": "088f4b34-15b2-4a32-9bd5-fe8edb353ff4"
      },
      "source": [
        "microdadosEnemSexoRedacao.groupby('TP_SEXO').median()"
      ],
      "execution_count": null,
      "outputs": [
        {
          "output_type": "execute_result",
          "data": {
            "text/html": [
              "<div>\n",
              "<style scoped>\n",
              "    .dataframe tbody tr th:only-of-type {\n",
              "        vertical-align: middle;\n",
              "    }\n",
              "\n",
              "    .dataframe tbody tr th {\n",
              "        vertical-align: top;\n",
              "    }\n",
              "\n",
              "    .dataframe thead th {\n",
              "        text-align: right;\n",
              "    }\n",
              "</style>\n",
              "<table border=\"1\" class=\"dataframe\">\n",
              "  <thead>\n",
              "    <tr style=\"text-align: right;\">\n",
              "      <th></th>\n",
              "      <th>NU_NOTA_REDACAO</th>\n",
              "    </tr>\n",
              "    <tr>\n",
              "      <th>TP_SEXO</th>\n",
              "      <th></th>\n",
              "    </tr>\n",
              "  </thead>\n",
              "  <tbody>\n",
              "    <tr>\n",
              "      <th>F</th>\n",
              "      <td>540.0</td>\n",
              "    </tr>\n",
              "    <tr>\n",
              "      <th>M</th>\n",
              "      <td>540.0</td>\n",
              "    </tr>\n",
              "  </tbody>\n",
              "</table>\n",
              "</div>"
            ],
            "text/plain": [
              "         NU_NOTA_REDACAO\n",
              "TP_SEXO                 \n",
              "F                  540.0\n",
              "M                  540.0"
            ]
          },
          "metadata": {},
          "execution_count": 58
        }
      ]
    },
    {
      "cell_type": "code",
      "metadata": {
        "colab": {
          "base_uri": "https://localhost:8080/",
          "height": 614
        },
        "id": "0YKS0WBZ0v4o",
        "outputId": "88384aa3-6b25-4ce9-adf5-1ecd4e61e406"
      },
      "source": [
        "microdadosEnemSexoRedacao.groupby('TP_SEXO').hist()"
      ],
      "execution_count": null,
      "outputs": [
        {
          "output_type": "execute_result",
          "data": {
            "text/plain": [
              "TP_SEXO\n",
              "F    [[AxesSubplot(0.125,0.125;0.775x0.755)]]\n",
              "M    [[AxesSubplot(0.125,0.125;0.775x0.755)]]\n",
              "dtype: object"
            ]
          },
          "metadata": {},
          "execution_count": 59
        },
        {
          "output_type": "display_data",
          "data": {
            "image/png": "[encoded data removed]",
            "text/plain": [
              "<Figure size 432x288 with 1 Axes>"
            ]
          },
          "metadata": {
            "needs_background": "light"
          }
        },
        {
          "output_type": "display_data",
          "data": {
            "image/png": "[encoded data removed]",
            "text/plain": [
              "<Figure size 432x288 with 1 Axes>"
            ]
          },
          "metadata": {
            "needs_background": "light"
          }
        }
      ]
    },
    {
      "cell_type": "markdown",
      "metadata": {
        "id": "nZlTfH5c0o2P"
      },
      "source": [
        ""
      ]
    },
    {
      "cell_type": "code",
      "metadata": {
        "colab": {
          "base_uri": "https://localhost:8080/",
          "height": 174
        },
        "id": "BTO6STs70_y7",
        "outputId": "c8862095-33f5-474c-fc74-afd2d7cb5624"
      },
      "source": [
        "microdadosEnemSexoRedacao.groupby('TP_SEXO').describe()"
      ],
      "execution_count": null,
      "outputs": [
        {
          "output_type": "execute_result",
          "data": {
            "text/html": [
              "<div>\n",
              "<style scoped>\n",
              "    .dataframe tbody tr th:only-of-type {\n",
              "        vertical-align: middle;\n",
              "    }\n",
              "\n",
              "    .dataframe tbody tr th {\n",
              "        vertical-align: top;\n",
              "    }\n",
              "\n",
              "    .dataframe thead tr th {\n",
              "        text-align: left;\n",
              "    }\n",
              "\n",
              "    .dataframe thead tr:last-of-type th {\n",
              "        text-align: right;\n",
              "    }\n",
              "</style>\n",
              "<table border=\"1\" class=\"dataframe\">\n",
              "  <thead>\n",
              "    <tr>\n",
              "      <th></th>\n",
              "      <th colspan=\"8\" halign=\"left\">NU_NOTA_REDACAO</th>\n",
              "    </tr>\n",
              "    <tr>\n",
              "      <th></th>\n",
              "      <th>count</th>\n",
              "      <th>mean</th>\n",
              "      <th>std</th>\n",
              "      <th>min</th>\n",
              "      <th>25%</th>\n",
              "      <th>50%</th>\n",
              "      <th>75%</th>\n",
              "      <th>max</th>\n",
              "    </tr>\n",
              "    <tr>\n",
              "      <th>TP_SEXO</th>\n",
              "      <th></th>\n",
              "      <th></th>\n",
              "      <th></th>\n",
              "      <th></th>\n",
              "      <th></th>\n",
              "      <th></th>\n",
              "      <th></th>\n",
              "      <th></th>\n",
              "    </tr>\n",
              "  </thead>\n",
              "  <tbody>\n",
              "    <tr>\n",
              "      <th>F</th>\n",
              "      <td>49659.0</td>\n",
              "      <td>537.446183</td>\n",
              "      <td>188.589848</td>\n",
              "      <td>0.0</td>\n",
              "      <td>380.0</td>\n",
              "      <td>540.0</td>\n",
              "      <td>660.0</td>\n",
              "      <td>980.0</td>\n",
              "    </tr>\n",
              "    <tr>\n",
              "      <th>M</th>\n",
              "      <td>27653.0</td>\n",
              "      <td>533.868296</td>\n",
              "      <td>191.251173</td>\n",
              "      <td>0.0</td>\n",
              "      <td>380.0</td>\n",
              "      <td>540.0</td>\n",
              "      <td>640.0</td>\n",
              "      <td>980.0</td>\n",
              "    </tr>\n",
              "  </tbody>\n",
              "</table>\n",
              "</div>"
            ],
            "text/plain": [
              "        NU_NOTA_REDACAO                          ...                     \n",
              "                  count        mean         std  ...    50%    75%    max\n",
              "TP_SEXO                                          ...                     \n",
              "F               49659.0  537.446183  188.589848  ...  540.0  660.0  980.0\n",
              "M               27653.0  533.868296  191.251173  ...  540.0  640.0  980.0\n",
              "\n",
              "[2 rows x 8 columns]"
            ]
          },
          "metadata": {},
          "execution_count": 60
        }
      ]
    },
    {
      "cell_type": "markdown",
      "metadata": {
        "id": "mtKYrLKQ1h78"
      },
      "source": [
        "Primeiras duas questões do questionário socio-economico"
      ]
    },
    {
      "cell_type": "markdown",
      "metadata": {
        "id": "tCaTqRE61sSu"
      },
      "source": [
        "Selecionamos apenas as colunas que nos interessam"
      ]
    },
    {
      "cell_type": "code",
      "metadata": {
        "id": "wnZXea9G1rOC"
      },
      "source": [
        "colunasQuestionario = ['NU_INSCRICAO', 'NU_NOTA_MT', 'NU_NOTA_REDACAO', 'Q001', 'Q002']"
      ],
      "execution_count": null,
      "outputs": []
    },
    {
      "cell_type": "markdown",
      "metadata": {
        "id": "BOMAM2PS2Mta"
      },
      "source": [
        "Criamos um novo DataFrame apenas com os dados que serão analisados"
      ]
    },
    {
      "cell_type": "code",
      "metadata": {
        "id": "ePEbRXfF2WNL"
      },
      "source": [
        "microdadosEnemQuestionario = microdadosEnem.filter(items = colunasQuestionario)"
      ],
      "execution_count": null,
      "outputs": []
    },
    {
      "cell_type": "markdown",
      "metadata": {
        "id": "Jz3MFvGh2Wjo"
      },
      "source": [
        "Visualizar a cabeça(head) do DataFrame"
      ]
    },
    {
      "cell_type": "code",
      "metadata": {
        "id": "awt74Okk77N_"
      },
      "source": [
        "microdadosEnemQuestionario = microdadosEnemQuestionario.dropna()"
      ],
      "execution_count": null,
      "outputs": []
    },
    {
      "cell_type": "code",
      "metadata": {
        "colab": {
          "base_uri": "https://localhost:8080/",
          "height": 206
        },
        "id": "iWcEFi892aib",
        "outputId": "8cf4d2ff-dab8-4bb3-e1cf-c2712a80a58d"
      },
      "source": [
        "microdadosEnemQuestionario.head()"
      ],
      "execution_count": null,
      "outputs": [
        {
          "output_type": "execute_result",
          "data": {
            "text/html": [
              "<div>\n",
              "<style scoped>\n",
              "    .dataframe tbody tr th:only-of-type {\n",
              "        vertical-align: middle;\n",
              "    }\n",
              "\n",
              "    .dataframe tbody tr th {\n",
              "        vertical-align: top;\n",
              "    }\n",
              "\n",
              "    .dataframe thead th {\n",
              "        text-align: right;\n",
              "    }\n",
              "</style>\n",
              "<table border=\"1\" class=\"dataframe\">\n",
              "  <thead>\n",
              "    <tr style=\"text-align: right;\">\n",
              "      <th></th>\n",
              "      <th>NU_INSCRICAO</th>\n",
              "      <th>NU_NOTA_MT</th>\n",
              "      <th>NU_NOTA_REDACAO</th>\n",
              "      <th>Q001</th>\n",
              "      <th>Q002</th>\n",
              "    </tr>\n",
              "  </thead>\n",
              "  <tbody>\n",
              "    <tr>\n",
              "      <th>1</th>\n",
              "      <td>180007197856</td>\n",
              "      <td>480.3</td>\n",
              "      <td>280.0</td>\n",
              "      <td>B</td>\n",
              "      <td>B</td>\n",
              "    </tr>\n",
              "    <tr>\n",
              "      <th>5</th>\n",
              "      <td>180007239581</td>\n",
              "      <td>538.8</td>\n",
              "      <td>580.0</td>\n",
              "      <td>C</td>\n",
              "      <td>D</td>\n",
              "    </tr>\n",
              "    <tr>\n",
              "      <th>7</th>\n",
              "      <td>180008090447</td>\n",
              "      <td>733.8</td>\n",
              "      <td>680.0</td>\n",
              "      <td>A</td>\n",
              "      <td>E</td>\n",
              "    </tr>\n",
              "    <tr>\n",
              "      <th>8</th>\n",
              "      <td>180008257068</td>\n",
              "      <td>459.0</td>\n",
              "      <td>340.0</td>\n",
              "      <td>D</td>\n",
              "      <td>D</td>\n",
              "    </tr>\n",
              "    <tr>\n",
              "      <th>9</th>\n",
              "      <td>180008202044</td>\n",
              "      <td>525.4</td>\n",
              "      <td>740.0</td>\n",
              "      <td>C</td>\n",
              "      <td>C</td>\n",
              "    </tr>\n",
              "  </tbody>\n",
              "</table>\n",
              "</div>"
            ],
            "text/plain": [
              "   NU_INSCRICAO  NU_NOTA_MT  NU_NOTA_REDACAO Q001 Q002\n",
              "1  180007197856       480.3            280.0    B    B\n",
              "5  180007239581       538.8            580.0    C    D\n",
              "7  180008090447       733.8            680.0    A    E\n",
              "8  180008257068       459.0            340.0    D    D\n",
              "9  180008202044       525.4            740.0    C    C"
            ]
          },
          "metadata": {},
          "execution_count": 67
        }
      ]
    },
    {
      "cell_type": "markdown",
      "metadata": {
        "id": "sx416mxQ8Cno"
      },
      "source": [
        "# Finalmente: o questionário de indicadores socioeconômicos!"
      ]
    },
    {
      "cell_type": "markdown",
      "metadata": {
        "id": "sgBgwYue8JME"
      },
      "source": [
        "Começaremos pelas duas primeiras questões:"
      ]
    },
    {
      "cell_type": "markdown",
      "metadata": {
        "id": "UNak13xW8RTZ"
      },
      "source": [
        "Q001 - Até que série seu pai, ou o homem responsável por você, estudo?"
      ]
    },
    {
      "cell_type": "markdown",
      "metadata": {
        "id": "PVlS1jzGBhIc"
      },
      "source": [
        "Q002 - Até que série sua mãe, ou a mulher responsável por você, estudo?"
      ]
    },
    {
      "cell_type": "markdown",
      "metadata": {
        "id": "dh81KF_IDi-h"
      },
      "source": [
        "## Passo 1 - Definindo um dicionário"
      ]
    },
    {
      "cell_type": "markdown",
      "metadata": {
        "id": "gpxWbtgcDo3F"
      },
      "source": [
        "Faremos isso para visualizar melhor o resultado"
      ]
    },
    {
      "cell_type": "code",
      "metadata": {
        "id": "3Lg9eKKbCJ7S"
      },
      "source": [
        "DicionarioDuasQuestoes = {\n",
        "    'A': 'Nunca estudou',\n",
        "    'B': 'Não completou a 4ª série/5º ano do Ensino Fundamental',\n",
        "    'C': 'Completou a 4ª série/5º ano , mas não completou a 8ª série/9º ano do Ensino Fundamental',\n",
        "    'D': 'Completou a 8ª série/9º ano do Ensino Fundamental, mas não completou o Ensino Médio',\n",
        "    'E': 'Completou o Ensino Médio, mas não completou a Faculdade',\n",
        "    'F': 'Completou a Faculdade, mas não completou a Pós-graduação',\n",
        "    'G': 'Completou a Pós-Graduação',\n",
        "    'H': 'Não sei',\n",
        "}"
      ],
      "execution_count": null,
      "outputs": []
    },
    {
      "cell_type": "code",
      "metadata": {
        "colab": {
          "base_uri": "https://localhost:8080/"
        },
        "id": "l0Qv3P-OESFD",
        "outputId": "52e1d0d7-495d-4a0d-dac5-53d0872fa38e"
      },
      "source": [
        "microdadosEnemQuestionario.filter(items=['Q001', 'NU_INSCRICAO']).groupby('Q001').count()"
      ],
      "execution_count": null,
      "outputs": [
        {
          "output_type": "execute_result",
          "data": {
            "text/html": [
              "<div>\n",
              "<style scoped>\n",
              "    .dataframe tbody tr th:only-of-type {\n",
              "        vertical-align: middle;\n",
              "    }\n",
              "\n",
              "    .dataframe tbody tr th {\n",
              "        vertical-align: top;\n",
              "    }\n",
              "\n",
              "    .dataframe thead th {\n",
              "        text-align: right;\n",
              "    }\n",
              "</style>\n",
              "<table border=\"1\" class=\"dataframe\">\n",
              "  <thead>\n",
              "    <tr style=\"text-align: right;\">\n",
              "      <th></th>\n",
              "      <th>NU_INSCRICAO</th>\n",
              "    </tr>\n",
              "    <tr>\n",
              "      <th>Q001</th>\n",
              "      <th></th>\n",
              "    </tr>\n",
              "  </thead>\n",
              "  <tbody>\n",
              "    <tr>\n",
              "      <th>A</th>\n",
              "      <td>3944</td>\n",
              "    </tr>\n",
              "    <tr>\n",
              "      <th>B</th>\n",
              "      <td>17346</td>\n",
              "    </tr>\n",
              "    <tr>\n",
              "      <th>C</th>\n",
              "      <td>10572</td>\n",
              "    </tr>\n",
              "    <tr>\n",
              "      <th>D</th>\n",
              "      <td>8788</td>\n",
              "    </tr>\n",
              "    <tr>\n",
              "      <th>E</th>\n",
              "      <td>18927</td>\n",
              "    </tr>\n",
              "    <tr>\n",
              "      <th>F</th>\n",
              "      <td>4480</td>\n",
              "    </tr>\n",
              "    <tr>\n",
              "      <th>G</th>\n",
              "      <td>2303</td>\n",
              "    </tr>\n",
              "    <tr>\n",
              "      <th>H</th>\n",
              "      <td>6576</td>\n",
              "    </tr>\n",
              "  </tbody>\n",
              "</table>\n",
              "</div>"
            ],
            "text/plain": [
              "      NU_INSCRICAO\n",
              "Q001              \n",
              "A             3944\n",
              "B            17346\n",
              "C            10572\n",
              "D             8788\n",
              "E            18927\n",
              "F             4480\n",
              "G             2303\n",
              "H             6576"
            ]
          },
          "metadata": {},
          "execution_count": 71
        }
      ]
    },
    {
      "cell_type": "markdown",
      "metadata": {
        "id": "9-IqC6tSDytt"
      },
      "source": [
        "## Passo 2 - Criar novas colunas no DataFrame"
      ]
    },
    {
      "cell_type": "markdown",
      "metadata": {
        "id": "YVfLbzfdD4IO"
      },
      "source": [
        "Inserindo coluna NO_Q001:"
      ]
    },
    {
      "cell_type": "code",
      "metadata": {
        "id": "qFa6Wyz1D91u"
      },
      "source": [
        "microdadosEnemQuestionario['NO_Q001'] = [DicionarioDuasQuestoes[resp] for resp in microdadosEnemQuestionario.Q001]"
      ],
      "execution_count": null,
      "outputs": []
    },
    {
      "cell_type": "markdown",
      "metadata": {
        "id": "6aYDQumzEmvU"
      },
      "source": [
        "Inserindo coluna NO_Q002:"
      ]
    },
    {
      "cell_type": "code",
      "metadata": {
        "id": "GH1EuQjKEpdi"
      },
      "source": [
        "microdadosEnemQuestionario['NO_Q002'] = [DicionarioDuasQuestoes[resp] for resp in microdadosEnemQuestionario.Q002]"
      ],
      "execution_count": null,
      "outputs": []
    },
    {
      "cell_type": "markdown",
      "metadata": {
        "id": "nwYFgjeJEqc4"
      },
      "source": [
        "Olhando o head do DataFrame para verificar a inserção:"
      ]
    },
    {
      "cell_type": "code",
      "metadata": {
        "colab": {
          "base_uri": "https://localhost:8080/"
        },
        "id": "EeaAQwkIEwDw",
        "outputId": "92b42422-1d59-4988-b320-9c78e4f5c9b2"
      },
      "source": [
        "microdadosEnemQuestionario.head()"
      ],
      "execution_count": null,
      "outputs": [
        {
          "output_type": "execute_result",
          "data": {
            "text/html": [
              "<div>\n",
              "<style scoped>\n",
              "    .dataframe tbody tr th:only-of-type {\n",
              "        vertical-align: middle;\n",
              "    }\n",
              "\n",
              "    .dataframe tbody tr th {\n",
              "        vertical-align: top;\n",
              "    }\n",
              "\n",
              "    .dataframe thead th {\n",
              "        text-align: right;\n",
              "    }\n",
              "</style>\n",
              "<table border=\"1\" class=\"dataframe\">\n",
              "  <thead>\n",
              "    <tr style=\"text-align: right;\">\n",
              "      <th></th>\n",
              "      <th>NU_INSCRICAO</th>\n",
              "      <th>NU_NOTA_MT</th>\n",
              "      <th>NU_NOTA_REDACAO</th>\n",
              "      <th>Q001</th>\n",
              "      <th>Q002</th>\n",
              "      <th>NO_Q001</th>\n",
              "      <th>NO_Q002</th>\n",
              "    </tr>\n",
              "  </thead>\n",
              "  <tbody>\n",
              "    <tr>\n",
              "      <th>1</th>\n",
              "      <td>180007197856</td>\n",
              "      <td>480.3</td>\n",
              "      <td>280.0</td>\n",
              "      <td>B</td>\n",
              "      <td>B</td>\n",
              "      <td>Não completou a 4ª série/5º ano do Ensino Fund...</td>\n",
              "      <td>Não completou a 4ª série/5º ano do Ensino Fund...</td>\n",
              "    </tr>\n",
              "    <tr>\n",
              "      <th>5</th>\n",
              "      <td>180007239581</td>\n",
              "      <td>538.8</td>\n",
              "      <td>580.0</td>\n",
              "      <td>C</td>\n",
              "      <td>D</td>\n",
              "      <td>Completou a 4ª série/5º ano , mas não completo...</td>\n",
              "      <td>Completou a 8ª série/9º ano do Ensino Fundamen...</td>\n",
              "    </tr>\n",
              "    <tr>\n",
              "      <th>7</th>\n",
              "      <td>180008090447</td>\n",
              "      <td>733.8</td>\n",
              "      <td>680.0</td>\n",
              "      <td>A</td>\n",
              "      <td>E</td>\n",
              "      <td>Nunca estudou</td>\n",
              "      <td>Completou o Ensino Médio, mas não completou a ...</td>\n",
              "    </tr>\n",
              "    <tr>\n",
              "      <th>8</th>\n",
              "      <td>180008257068</td>\n",
              "      <td>459.0</td>\n",
              "      <td>340.0</td>\n",
              "      <td>D</td>\n",
              "      <td>D</td>\n",
              "      <td>Completou a 8ª série/9º ano do Ensino Fundamen...</td>\n",
              "      <td>Completou a 8ª série/9º ano do Ensino Fundamen...</td>\n",
              "    </tr>\n",
              "    <tr>\n",
              "      <th>9</th>\n",
              "      <td>180008202044</td>\n",
              "      <td>525.4</td>\n",
              "      <td>740.0</td>\n",
              "      <td>C</td>\n",
              "      <td>C</td>\n",
              "      <td>Completou a 4ª série/5º ano , mas não completo...</td>\n",
              "      <td>Completou a 4ª série/5º ano , mas não completo...</td>\n",
              "    </tr>\n",
              "  </tbody>\n",
              "</table>\n",
              "</div>"
            ],
            "text/plain": [
              "   NU_INSCRICAO  ...                                            NO_Q002\n",
              "1  180007197856  ...  Não completou a 4ª série/5º ano do Ensino Fund...\n",
              "5  180007239581  ...  Completou a 8ª série/9º ano do Ensino Fundamen...\n",
              "7  180008090447  ...  Completou o Ensino Médio, mas não completou a ...\n",
              "8  180008257068  ...  Completou a 8ª série/9º ano do Ensino Fundamen...\n",
              "9  180008202044  ...  Completou a 4ª série/5º ano , mas não completo...\n",
              "\n",
              "[5 rows x 7 columns]"
            ]
          },
          "metadata": {},
          "execution_count": 77
        }
      ]
    },
    {
      "cell_type": "markdown",
      "metadata": {
        "id": "aYCZtFYdFtRv"
      },
      "source": [
        "## Passo 3 - Comparando distribuição do nível de escolaridade Pai/Mãe no conjunto de dados"
      ]
    },
    {
      "cell_type": "markdown",
      "metadata": {
        "id": "GNEhpmC3GxuW"
      },
      "source": [
        "Utilizando os métodos do DataFrame filter(), groupby(), count(), sort_values()"
      ]
    },
    {
      "cell_type": "markdown",
      "metadata": {
        "id": "WeTvFvGGHFy5"
      },
      "source": [
        "1 - Distribuição dos candidatos do ENEM 2018 por escolaridade do Pai"
      ]
    },
    {
      "cell_type": "code",
      "metadata": {
        "colab": {
          "base_uri": "https://localhost:8080/"
        },
        "id": "PghTUSVNH7e6",
        "outputId": "f4b7b1c5-89a5-4449-eeb5-ceb1d64d60f9"
      },
      "source": [
        "microdadosEnemQuestionario.filter(items = ['NU_INSCRICAO', 'NO_Q001']).groupby('NO_Q001').count().sort_values(by='NU_INSCRICAO', ascending=False)"
      ],
      "execution_count": null,
      "outputs": [
        {
          "output_type": "execute_result",
          "data": {
            "text/html": [
              "<div>\n",
              "<style scoped>\n",
              "    .dataframe tbody tr th:only-of-type {\n",
              "        vertical-align: middle;\n",
              "    }\n",
              "\n",
              "    .dataframe tbody tr th {\n",
              "        vertical-align: top;\n",
              "    }\n",
              "\n",
              "    .dataframe thead th {\n",
              "        text-align: right;\n",
              "    }\n",
              "</style>\n",
              "<table border=\"1\" class=\"dataframe\">\n",
              "  <thead>\n",
              "    <tr style=\"text-align: right;\">\n",
              "      <th></th>\n",
              "      <th>NU_INSCRICAO</th>\n",
              "    </tr>\n",
              "    <tr>\n",
              "      <th>NO_Q001</th>\n",
              "      <th></th>\n",
              "    </tr>\n",
              "  </thead>\n",
              "  <tbody>\n",
              "    <tr>\n",
              "      <th>Completou o Ensino Médio, mas não completou a Faculdade</th>\n",
              "      <td>18927</td>\n",
              "    </tr>\n",
              "    <tr>\n",
              "      <th>Não completou a 4ª série/5º ano do Ensino Fundamental</th>\n",
              "      <td>17346</td>\n",
              "    </tr>\n",
              "    <tr>\n",
              "      <th>Completou a 4ª série/5º ano , mas não completou a 8ª série/9º ano do Ensino Fundamental</th>\n",
              "      <td>10572</td>\n",
              "    </tr>\n",
              "    <tr>\n",
              "      <th>Completou a 8ª série/9º ano do Ensino Fundamental, mas não completou o Ensino Médio</th>\n",
              "      <td>8788</td>\n",
              "    </tr>\n",
              "    <tr>\n",
              "      <th>Não sei</th>\n",
              "      <td>6576</td>\n",
              "    </tr>\n",
              "    <tr>\n",
              "      <th>Completou a Faculdade, mas não completou a Pós-graduação</th>\n",
              "      <td>4480</td>\n",
              "    </tr>\n",
              "    <tr>\n",
              "      <th>Nunca estudou</th>\n",
              "      <td>3944</td>\n",
              "    </tr>\n",
              "    <tr>\n",
              "      <th>Completou a Pós-Graduação</th>\n",
              "      <td>2303</td>\n",
              "    </tr>\n",
              "  </tbody>\n",
              "</table>\n",
              "</div>"
            ],
            "text/plain": [
              "                                                    NU_INSCRICAO\n",
              "NO_Q001                                                         \n",
              "Completou o Ensino Médio, mas não completou a F...         18927\n",
              "Não completou a 4ª série/5º ano do Ensino Funda...         17346\n",
              "Completou a 4ª série/5º ano , mas não completou...         10572\n",
              "Completou a 8ª série/9º ano do Ensino Fundament...          8788\n",
              "Não sei                                                     6576\n",
              "Completou a Faculdade, mas não completou a Pós-...          4480\n",
              "Nunca estudou                                               3944\n",
              "Completou a Pós-Graduação                                   2303"
            ]
          },
          "metadata": {},
          "execution_count": 80
        }
      ]
    },
    {
      "cell_type": "markdown",
      "metadata": {
        "id": "_LBX213sH73e"
      },
      "source": [
        "2 - Distribuição dos candidatos do ENEM 2018 por escolaridade da Mãe"
      ]
    },
    {
      "cell_type": "code",
      "metadata": {
        "colab": {
          "base_uri": "https://localhost:8080/"
        },
        "id": "XthxG2uwIARb",
        "outputId": "e4350864-4e10-4de5-d73e-f4274cd29fbf"
      },
      "source": [
        "microdadosEnemQuestionario.filter(items = ['NU_INSCRICAO', 'NO_Q002']).groupby('NO_Q002').count().sort_values(by='NU_INSCRICAO', ascending=False)"
      ],
      "execution_count": null,
      "outputs": [
        {
          "output_type": "execute_result",
          "data": {
            "text/html": [
              "<div>\n",
              "<style scoped>\n",
              "    .dataframe tbody tr th:only-of-type {\n",
              "        vertical-align: middle;\n",
              "    }\n",
              "\n",
              "    .dataframe tbody tr th {\n",
              "        vertical-align: top;\n",
              "    }\n",
              "\n",
              "    .dataframe thead th {\n",
              "        text-align: right;\n",
              "    }\n",
              "</style>\n",
              "<table border=\"1\" class=\"dataframe\">\n",
              "  <thead>\n",
              "    <tr style=\"text-align: right;\">\n",
              "      <th></th>\n",
              "      <th>NU_INSCRICAO</th>\n",
              "    </tr>\n",
              "    <tr>\n",
              "      <th>NO_Q002</th>\n",
              "      <th></th>\n",
              "    </tr>\n",
              "  </thead>\n",
              "  <tbody>\n",
              "    <tr>\n",
              "      <th>Completou o Ensino Médio, mas não completou a Faculdade</th>\n",
              "      <td>24257</td>\n",
              "    </tr>\n",
              "    <tr>\n",
              "      <th>Não completou a 4ª série/5º ano do Ensino Fundamental</th>\n",
              "      <td>13141</td>\n",
              "    </tr>\n",
              "    <tr>\n",
              "      <th>Completou a 4ª série/5º ano , mas não completou a 8ª série/9º ano do Ensino Fundamental</th>\n",
              "      <td>10334</td>\n",
              "    </tr>\n",
              "    <tr>\n",
              "      <th>Completou a 8ª série/9º ano do Ensino Fundamental, mas não completou o Ensino Médio</th>\n",
              "      <td>10314</td>\n",
              "    </tr>\n",
              "    <tr>\n",
              "      <th>Completou a Faculdade, mas não completou a Pós-graduação</th>\n",
              "      <td>6365</td>\n",
              "    </tr>\n",
              "    <tr>\n",
              "      <th>Completou a Pós-Graduação</th>\n",
              "      <td>4129</td>\n",
              "    </tr>\n",
              "    <tr>\n",
              "      <th>Nunca estudou</th>\n",
              "      <td>2569</td>\n",
              "    </tr>\n",
              "    <tr>\n",
              "      <th>Não sei</th>\n",
              "      <td>1827</td>\n",
              "    </tr>\n",
              "  </tbody>\n",
              "</table>\n",
              "</div>"
            ],
            "text/plain": [
              "                                                    NU_INSCRICAO\n",
              "NO_Q002                                                         \n",
              "Completou o Ensino Médio, mas não completou a F...         24257\n",
              "Não completou a 4ª série/5º ano do Ensino Funda...         13141\n",
              "Completou a 4ª série/5º ano , mas não completou...         10334\n",
              "Completou a 8ª série/9º ano do Ensino Fundament...         10314\n",
              "Completou a Faculdade, mas não completou a Pós-...          6365\n",
              "Completou a Pós-Graduação                                   4129\n",
              "Nunca estudou                                               2569\n",
              "Não sei                                                     1827"
            ]
          },
          "metadata": {},
          "execution_count": 81
        }
      ]
    },
    {
      "cell_type": "markdown",
      "metadata": {
        "id": "UlL8ZBd7JsUD"
      },
      "source": [
        "## Passo 4 - Olhando o desempenho em matemática segundo a escolaridade Pai vs Mãe"
      ]
    },
    {
      "cell_type": "markdown",
      "metadata": {
        "id": "a3PxqZ29KDxv"
      },
      "source": [
        "1 - por Escolaridade do Pai"
      ]
    },
    {
      "cell_type": "code",
      "metadata": {
        "colab": {
          "base_uri": "https://localhost:8080/"
        },
        "id": "I_l9ETlZKJO-",
        "outputId": "39c7f41e-f1dc-4718-ca09-a9857286b2d9"
      },
      "source": [
        "microdadosEnemQuestionario.filter(items = ['NU_NOTA_MT', 'NO_Q001']).groupby('NO_Q001').mean().sort_values(by='NU_NOTA_MT', ascending=False)"
      ],
      "execution_count": null,
      "outputs": [
        {
          "output_type": "execute_result",
          "data": {
            "text/html": [
              "<div>\n",
              "<style scoped>\n",
              "    .dataframe tbody tr th:only-of-type {\n",
              "        vertical-align: middle;\n",
              "    }\n",
              "\n",
              "    .dataframe tbody tr th {\n",
              "        vertical-align: top;\n",
              "    }\n",
              "\n",
              "    .dataframe thead th {\n",
              "        text-align: right;\n",
              "    }\n",
              "</style>\n",
              "<table border=\"1\" class=\"dataframe\">\n",
              "  <thead>\n",
              "    <tr style=\"text-align: right;\">\n",
              "      <th></th>\n",
              "      <th>NU_NOTA_MT</th>\n",
              "    </tr>\n",
              "    <tr>\n",
              "      <th>NO_Q001</th>\n",
              "      <th></th>\n",
              "    </tr>\n",
              "  </thead>\n",
              "  <tbody>\n",
              "    <tr>\n",
              "      <th>Completou a Pós-Graduação</th>\n",
              "      <td>639.180156</td>\n",
              "    </tr>\n",
              "    <tr>\n",
              "      <th>Completou a Faculdade, mas não completou a Pós-graduação</th>\n",
              "      <td>611.642567</td>\n",
              "    </tr>\n",
              "    <tr>\n",
              "      <th>Completou o Ensino Médio, mas não completou a Faculdade</th>\n",
              "      <td>552.262239</td>\n",
              "    </tr>\n",
              "    <tr>\n",
              "      <th>Completou a 8ª série/9º ano do Ensino Fundamental, mas não completou o Ensino Médio</th>\n",
              "      <td>535.420721</td>\n",
              "    </tr>\n",
              "    <tr>\n",
              "      <th>Completou a 4ª série/5º ano , mas não completou a 8ª série/9º ano do Ensino Fundamental</th>\n",
              "      <td>525.566487</td>\n",
              "    </tr>\n",
              "    <tr>\n",
              "      <th>Não sei</th>\n",
              "      <td>518.210310</td>\n",
              "    </tr>\n",
              "    <tr>\n",
              "      <th>Não completou a 4ª série/5º ano do Ensino Fundamental</th>\n",
              "      <td>508.967041</td>\n",
              "    </tr>\n",
              "    <tr>\n",
              "      <th>Nunca estudou</th>\n",
              "      <td>493.972972</td>\n",
              "    </tr>\n",
              "  </tbody>\n",
              "</table>\n",
              "</div>"
            ],
            "text/plain": [
              "                                                    NU_NOTA_MT\n",
              "NO_Q001                                                       \n",
              "Completou a Pós-Graduação                           639.180156\n",
              "Completou a Faculdade, mas não completou a Pós-...  611.642567\n",
              "Completou o Ensino Médio, mas não completou a F...  552.262239\n",
              "Completou a 8ª série/9º ano do Ensino Fundament...  535.420721\n",
              "Completou a 4ª série/5º ano , mas não completou...  525.566487\n",
              "Não sei                                             518.210310\n",
              "Não completou a 4ª série/5º ano do Ensino Funda...  508.967041\n",
              "Nunca estudou                                       493.972972"
            ]
          },
          "metadata": {},
          "execution_count": 84
        }
      ]
    },
    {
      "cell_type": "markdown",
      "metadata": {
        "id": "jafEwnlxKJvf"
      },
      "source": [
        "2 - por Escolaridade da Mãe"
      ]
    },
    {
      "cell_type": "code",
      "metadata": {
        "colab": {
          "base_uri": "https://localhost:8080/"
        },
        "id": "-q4GuoTmKQvO",
        "outputId": "32aa33f7-3207-4129-e85e-45f7392e6e67"
      },
      "source": [
        "microdadosEnemQuestionario.filter(items = ['NU_NOTA_MT', 'NO_Q002']).groupby('NO_Q002').mean().sort_values(by='NU_NOTA_MT', ascending=False)"
      ],
      "execution_count": null,
      "outputs": [
        {
          "output_type": "execute_result",
          "data": {
            "text/html": [
              "<div>\n",
              "<style scoped>\n",
              "    .dataframe tbody tr th:only-of-type {\n",
              "        vertical-align: middle;\n",
              "    }\n",
              "\n",
              "    .dataframe tbody tr th {\n",
              "        vertical-align: top;\n",
              "    }\n",
              "\n",
              "    .dataframe thead th {\n",
              "        text-align: right;\n",
              "    }\n",
              "</style>\n",
              "<table border=\"1\" class=\"dataframe\">\n",
              "  <thead>\n",
              "    <tr style=\"text-align: right;\">\n",
              "      <th></th>\n",
              "      <th>NU_NOTA_MT</th>\n",
              "    </tr>\n",
              "    <tr>\n",
              "      <th>NO_Q002</th>\n",
              "      <th></th>\n",
              "    </tr>\n",
              "  </thead>\n",
              "  <tbody>\n",
              "    <tr>\n",
              "      <th>Completou a Pós-Graduação</th>\n",
              "      <td>615.229935</td>\n",
              "    </tr>\n",
              "    <tr>\n",
              "      <th>Completou a Faculdade, mas não completou a Pós-graduação</th>\n",
              "      <td>594.896339</td>\n",
              "    </tr>\n",
              "    <tr>\n",
              "      <th>Completou o Ensino Médio, mas não completou a Faculdade</th>\n",
              "      <td>544.250810</td>\n",
              "    </tr>\n",
              "    <tr>\n",
              "      <th>Completou a 8ª série/9º ano do Ensino Fundamental, mas não completou o Ensino Médio</th>\n",
              "      <td>524.653481</td>\n",
              "    </tr>\n",
              "    <tr>\n",
              "      <th>Completou a 4ª série/5º ano , mas não completou a 8ª série/9º ano do Ensino Fundamental</th>\n",
              "      <td>519.275140</td>\n",
              "    </tr>\n",
              "    <tr>\n",
              "      <th>Não sei</th>\n",
              "      <td>509.101642</td>\n",
              "    </tr>\n",
              "    <tr>\n",
              "      <th>Não completou a 4ª série/5º ano do Ensino Fundamental</th>\n",
              "      <td>503.694437</td>\n",
              "    </tr>\n",
              "    <tr>\n",
              "      <th>Nunca estudou</th>\n",
              "      <td>488.755469</td>\n",
              "    </tr>\n",
              "  </tbody>\n",
              "</table>\n",
              "</div>"
            ],
            "text/plain": [
              "                                                    NU_NOTA_MT\n",
              "NO_Q002                                                       \n",
              "Completou a Pós-Graduação                           615.229935\n",
              "Completou a Faculdade, mas não completou a Pós-...  594.896339\n",
              "Completou o Ensino Médio, mas não completou a F...  544.250810\n",
              "Completou a 8ª série/9º ano do Ensino Fundament...  524.653481\n",
              "Completou a 4ª série/5º ano , mas não completou...  519.275140\n",
              "Não sei                                             509.101642\n",
              "Não completou a 4ª série/5º ano do Ensino Funda...  503.694437\n",
              "Nunca estudou                                       488.755469"
            ]
          },
          "metadata": {},
          "execution_count": 85
        }
      ]
    },
    {
      "cell_type": "markdown",
      "metadata": {
        "id": "FIwyg8d1MGtc"
      },
      "source": [
        "## Passo 5 - Olhando o desempenho em redação segundo a escolaridade Pai vs Mãe"
      ]
    },
    {
      "cell_type": "markdown",
      "metadata": {
        "id": "jz800VI9MPEv"
      },
      "source": [
        "1 - por Escolaridade do Pai"
      ]
    },
    {
      "cell_type": "code",
      "metadata": {
        "colab": {
          "base_uri": "https://localhost:8080/"
        },
        "id": "SUvgCFsoMR8k",
        "outputId": "118a5884-3199-4864-e42f-f423d1ea17b7"
      },
      "source": [
        "microdadosEnemQuestionario.filter(items = ['NU_NOTA_REDACAO', 'NO_Q001']).groupby('NO_Q001').mean().sort_values(by='NU_NOTA_REDACAO', ascending=False)"
      ],
      "execution_count": null,
      "outputs": [
        {
          "output_type": "execute_result",
          "data": {
            "text/html": [
              "<div>\n",
              "<style scoped>\n",
              "    .dataframe tbody tr th:only-of-type {\n",
              "        vertical-align: middle;\n",
              "    }\n",
              "\n",
              "    .dataframe tbody tr th {\n",
              "        vertical-align: top;\n",
              "    }\n",
              "\n",
              "    .dataframe thead th {\n",
              "        text-align: right;\n",
              "    }\n",
              "</style>\n",
              "<table border=\"1\" class=\"dataframe\">\n",
              "  <thead>\n",
              "    <tr style=\"text-align: right;\">\n",
              "      <th></th>\n",
              "      <th>NU_NOTA_REDACAO</th>\n",
              "    </tr>\n",
              "    <tr>\n",
              "      <th>NO_Q001</th>\n",
              "      <th></th>\n",
              "    </tr>\n",
              "  </thead>\n",
              "  <tbody>\n",
              "    <tr>\n",
              "      <th>Completou a Pós-Graduação</th>\n",
              "      <td>688.241424</td>\n",
              "    </tr>\n",
              "    <tr>\n",
              "      <th>Completou a Faculdade, mas não completou a Pós-graduação</th>\n",
              "      <td>651.062500</td>\n",
              "    </tr>\n",
              "    <tr>\n",
              "      <th>Completou o Ensino Médio, mas não completou a Faculdade</th>\n",
              "      <td>573.471760</td>\n",
              "    </tr>\n",
              "    <tr>\n",
              "      <th>Completou a 8ª série/9º ano do Ensino Fundamental, mas não completou o Ensino Médio</th>\n",
              "      <td>547.451070</td>\n",
              "    </tr>\n",
              "    <tr>\n",
              "      <th>Completou a 4ª série/5º ano , mas não completou a 8ª série/9º ano do Ensino Fundamental</th>\n",
              "      <td>527.786606</td>\n",
              "    </tr>\n",
              "    <tr>\n",
              "      <th>Não sei</th>\n",
              "      <td>512.013382</td>\n",
              "    </tr>\n",
              "    <tr>\n",
              "      <th>Não completou a 4ª série/5º ano do Ensino Fundamental</th>\n",
              "      <td>499.078750</td>\n",
              "    </tr>\n",
              "    <tr>\n",
              "      <th>Nunca estudou</th>\n",
              "      <td>469.918864</td>\n",
              "    </tr>\n",
              "  </tbody>\n",
              "</table>\n",
              "</div>"
            ],
            "text/plain": [
              "                                                    NU_NOTA_REDACAO\n",
              "NO_Q001                                                            \n",
              "Completou a Pós-Graduação                                688.241424\n",
              "Completou a Faculdade, mas não completou a Pós-...       651.062500\n",
              "Completou o Ensino Médio, mas não completou a F...       573.471760\n",
              "Completou a 8ª série/9º ano do Ensino Fundament...       547.451070\n",
              "Completou a 4ª série/5º ano , mas não completou...       527.786606\n",
              "Não sei                                                  512.013382\n",
              "Não completou a 4ª série/5º ano do Ensino Funda...       499.078750\n",
              "Nunca estudou                                            469.918864"
            ]
          },
          "metadata": {},
          "execution_count": 86
        }
      ]
    },
    {
      "cell_type": "markdown",
      "metadata": {
        "id": "HasRqFYeMSQp"
      },
      "source": [
        "2 - por Escolaridade da Mãe"
      ]
    },
    {
      "cell_type": "code",
      "metadata": {
        "id": "WQDfBLusMUnp"
      },
      "source": [
        "q002RedacaoMae = microdadosEnemQuestionario.filter(items = ['NU_NOTA_REDACAO', 'NO_Q002']).groupby('NO_Q002').mean().sort_values(by='NU_NOTA_REDACAO', ascending=False)"
      ],
      "execution_count": null,
      "outputs": []
    },
    {
      "cell_type": "code",
      "metadata": {
        "colab": {
          "base_uri": "https://localhost:8080/"
        },
        "id": "DY7jRdMvMzYk",
        "outputId": "0e92920d-f080-4b4f-b265-e74b6a500329"
      },
      "source": [
        "q002RedacaoMae"
      ],
      "execution_count": null,
      "outputs": [
        {
          "output_type": "execute_result",
          "data": {
            "text/html": [
              "<div>\n",
              "<style scoped>\n",
              "    .dataframe tbody tr th:only-of-type {\n",
              "        vertical-align: middle;\n",
              "    }\n",
              "\n",
              "    .dataframe tbody tr th {\n",
              "        vertical-align: top;\n",
              "    }\n",
              "\n",
              "    .dataframe thead th {\n",
              "        text-align: right;\n",
              "    }\n",
              "</style>\n",
              "<table border=\"1\" class=\"dataframe\">\n",
              "  <thead>\n",
              "    <tr style=\"text-align: right;\">\n",
              "      <th></th>\n",
              "      <th>NU_NOTA_REDACAO</th>\n",
              "    </tr>\n",
              "    <tr>\n",
              "      <th>NO_Q002</th>\n",
              "      <th></th>\n",
              "    </tr>\n",
              "  </thead>\n",
              "  <tbody>\n",
              "    <tr>\n",
              "      <th>Completou a Pós-Graduação</th>\n",
              "      <td>661.162509</td>\n",
              "    </tr>\n",
              "    <tr>\n",
              "      <th>Completou a Faculdade, mas não completou a Pós-graduação</th>\n",
              "      <td>630.667714</td>\n",
              "    </tr>\n",
              "    <tr>\n",
              "      <th>Completou o Ensino Médio, mas não completou a Faculdade</th>\n",
              "      <td>562.115678</td>\n",
              "    </tr>\n",
              "    <tr>\n",
              "      <th>Completou a 8ª série/9º ano do Ensino Fundamental, mas não completou o Ensino Médio</th>\n",
              "      <td>528.720186</td>\n",
              "    </tr>\n",
              "    <tr>\n",
              "      <th>Completou a 4ª série/5º ano , mas não completou a 8ª série/9º ano do Ensino Fundamental</th>\n",
              "      <td>513.439133</td>\n",
              "    </tr>\n",
              "    <tr>\n",
              "      <th>Não completou a 4ª série/5º ano do Ensino Fundamental</th>\n",
              "      <td>488.754280</td>\n",
              "    </tr>\n",
              "    <tr>\n",
              "      <th>Não sei</th>\n",
              "      <td>481.269841</td>\n",
              "    </tr>\n",
              "    <tr>\n",
              "      <th>Nunca estudou</th>\n",
              "      <td>460.700662</td>\n",
              "    </tr>\n",
              "  </tbody>\n",
              "</table>\n",
              "</div>"
            ],
            "text/plain": [
              "                                                    NU_NOTA_REDACAO\n",
              "NO_Q002                                                            \n",
              "Completou a Pós-Graduação                                661.162509\n",
              "Completou a Faculdade, mas não completou a Pós-...       630.667714\n",
              "Completou o Ensino Médio, mas não completou a F...       562.115678\n",
              "Completou a 8ª série/9º ano do Ensino Fundament...       528.720186\n",
              "Completou a 4ª série/5º ano , mas não completou...       513.439133\n",
              "Não completou a 4ª série/5º ano do Ensino Funda...       488.754280\n",
              "Não sei                                                  481.269841\n",
              "Nunca estudou                                            460.700662"
            ]
          },
          "metadata": {},
          "execution_count": 89
        }
      ]
    },
    {
      "cell_type": "code",
      "metadata": {
        "colab": {
          "base_uri": "https://localhost:8080/"
        },
        "id": "B5rGUpgJM0jC",
        "outputId": "c02eed6a-aeb8-42cc-8898-6199a7180f88"
      },
      "source": [
        "q002RedacaoMae.plot()"
      ],
      "execution_count": null,
      "outputs": [
        {
          "output_type": "execute_result",
          "data": {
            "text/plain": [
              "<matplotlib.axes._subplots.AxesSubplot at 0x7f16c1a64e50>"
            ]
          },
          "metadata": {},
          "execution_count": 90
        },
        {
          "output_type": "display_data",
          "data": {
            "image/png": "[encoded data removed]",
            "text/plain": [
              "<Figure size 432x288 with 1 Axes>"
            ]
          },
          "metadata": {
            "needs_background": "light"
          }
        }
      ]
    },
    {
      "cell_type": "code",
      "metadata": {
        "colab": {
          "base_uri": "https://localhost:8080/"
        },
        "id": "YZYdMzO1M8wM",
        "outputId": "327b8f1b-dc26-43da-c098-eecc7664ceb9"
      },
      "source": [
        "microdadosEnemQuestionario.filter(items = ['NU_NOTA_REDACAO', 'NO_Q002']).groupby('NO_Q002').describe()"
      ],
      "execution_count": null,
      "outputs": [
        {
          "output_type": "execute_result",
          "data": {
            "text/html": [
              "<div>\n",
              "<style scoped>\n",
              "    .dataframe tbody tr th:only-of-type {\n",
              "        vertical-align: middle;\n",
              "    }\n",
              "\n",
              "    .dataframe tbody tr th {\n",
              "        vertical-align: top;\n",
              "    }\n",
              "\n",
              "    .dataframe thead tr th {\n",
              "        text-align: left;\n",
              "    }\n",
              "\n",
              "    .dataframe thead tr:last-of-type th {\n",
              "        text-align: right;\n",
              "    }\n",
              "</style>\n",
              "<table border=\"1\" class=\"dataframe\">\n",
              "  <thead>\n",
              "    <tr>\n",
              "      <th></th>\n",
              "      <th colspan=\"8\" halign=\"left\">NU_NOTA_REDACAO</th>\n",
              "    </tr>\n",
              "    <tr>\n",
              "      <th></th>\n",
              "      <th>count</th>\n",
              "      <th>mean</th>\n",
              "      <th>std</th>\n",
              "      <th>min</th>\n",
              "      <th>25%</th>\n",
              "      <th>50%</th>\n",
              "      <th>75%</th>\n",
              "      <th>max</th>\n",
              "    </tr>\n",
              "    <tr>\n",
              "      <th>NO_Q002</th>\n",
              "      <th></th>\n",
              "      <th></th>\n",
              "      <th></th>\n",
              "      <th></th>\n",
              "      <th></th>\n",
              "      <th></th>\n",
              "      <th></th>\n",
              "      <th></th>\n",
              "    </tr>\n",
              "  </thead>\n",
              "  <tbody>\n",
              "    <tr>\n",
              "      <th>Completou a 4ª série/5º ano , mas não completou a 8ª série/9º ano do Ensino Fundamental</th>\n",
              "      <td>10334.0</td>\n",
              "      <td>513.439133</td>\n",
              "      <td>177.391656</td>\n",
              "      <td>0.0</td>\n",
              "      <td>360.0</td>\n",
              "      <td>520.0</td>\n",
              "      <td>620.0</td>\n",
              "      <td>980.0</td>\n",
              "    </tr>\n",
              "    <tr>\n",
              "      <th>Completou a 8ª série/9º ano do Ensino Fundamental, mas não completou o Ensino Médio</th>\n",
              "      <td>10314.0</td>\n",
              "      <td>528.720186</td>\n",
              "      <td>179.018112</td>\n",
              "      <td>0.0</td>\n",
              "      <td>380.0</td>\n",
              "      <td>540.0</td>\n",
              "      <td>640.0</td>\n",
              "      <td>980.0</td>\n",
              "    </tr>\n",
              "    <tr>\n",
              "      <th>Completou a Faculdade, mas não completou a Pós-graduação</th>\n",
              "      <td>6365.0</td>\n",
              "      <td>630.667714</td>\n",
              "      <td>187.883470</td>\n",
              "      <td>0.0</td>\n",
              "      <td>520.0</td>\n",
              "      <td>640.0</td>\n",
              "      <td>780.0</td>\n",
              "      <td>980.0</td>\n",
              "    </tr>\n",
              "    <tr>\n",
              "      <th>Completou a Pós-Graduação</th>\n",
              "      <td>4129.0</td>\n",
              "      <td>661.162509</td>\n",
              "      <td>192.591479</td>\n",
              "      <td>0.0</td>\n",
              "      <td>540.0</td>\n",
              "      <td>680.0</td>\n",
              "      <td>820.0</td>\n",
              "      <td>980.0</td>\n",
              "    </tr>\n",
              "    <tr>\n",
              "      <th>Completou o Ensino Médio, mas não completou a Faculdade</th>\n",
              "      <td>24257.0</td>\n",
              "      <td>562.115678</td>\n",
              "      <td>182.230779</td>\n",
              "      <td>0.0</td>\n",
              "      <td>420.0</td>\n",
              "      <td>560.0</td>\n",
              "      <td>680.0</td>\n",
              "      <td>980.0</td>\n",
              "    </tr>\n",
              "    <tr>\n",
              "      <th>Nunca estudou</th>\n",
              "      <td>2569.0</td>\n",
              "      <td>460.700662</td>\n",
              "      <td>170.827584</td>\n",
              "      <td>0.0</td>\n",
              "      <td>340.0</td>\n",
              "      <td>460.0</td>\n",
              "      <td>560.0</td>\n",
              "      <td>980.0</td>\n",
              "    </tr>\n",
              "    <tr>\n",
              "      <th>Não completou a 4ª série/5º ano do Ensino Fundamental</th>\n",
              "      <td>13141.0</td>\n",
              "      <td>488.754280</td>\n",
              "      <td>171.213439</td>\n",
              "      <td>0.0</td>\n",
              "      <td>360.0</td>\n",
              "      <td>500.0</td>\n",
              "      <td>600.0</td>\n",
              "      <td>980.0</td>\n",
              "    </tr>\n",
              "    <tr>\n",
              "      <th>Não sei</th>\n",
              "      <td>1827.0</td>\n",
              "      <td>481.269841</td>\n",
              "      <td>182.879868</td>\n",
              "      <td>0.0</td>\n",
              "      <td>340.0</td>\n",
              "      <td>480.0</td>\n",
              "      <td>600.0</td>\n",
              "      <td>980.0</td>\n",
              "    </tr>\n",
              "  </tbody>\n",
              "</table>\n",
              "</div>"
            ],
            "text/plain": [
              "                                                   NU_NOTA_REDACAO  ...       \n",
              "                                                             count  ...    max\n",
              "NO_Q002                                                             ...       \n",
              "Completou a 4ª série/5º ano , mas não completou...         10334.0  ...  980.0\n",
              "Completou a 8ª série/9º ano do Ensino Fundament...         10314.0  ...  980.0\n",
              "Completou a Faculdade, mas não completou a Pós-...          6365.0  ...  980.0\n",
              "Completou a Pós-Graduação                                   4129.0  ...  980.0\n",
              "Completou o Ensino Médio, mas não completou a F...         24257.0  ...  980.0\n",
              "Nunca estudou                                               2569.0  ...  980.0\n",
              "Não completou a 4ª série/5º ano do Ensino Funda...         13141.0  ...  980.0\n",
              "Não sei                                                     1827.0  ...  980.0\n",
              "\n",
              "[8 rows x 8 columns]"
            ]
          },
          "metadata": {},
          "execution_count": 92
        }
      ]
    },
    {
      "cell_type": "markdown",
      "metadata": {
        "id": "tLG91SSWPK8c"
      },
      "source": [
        "# Analisando Dados do Questionário SOCIOECONÔMICO do ENEM por ESTADO"
      ]
    },
    {
      "cell_type": "code",
      "metadata": {
        "id": "EAtJ73EZPKnh"
      },
      "source": [
        "microdadosEnemQuestionario['SG_UF_RESIDENCIA'] = microdadosEnem.SG_UF_RESIDENCIA"
      ],
      "execution_count": null,
      "outputs": []
    },
    {
      "cell_type": "code",
      "metadata": {
        "colab": {
          "base_uri": "https://localhost:8080/"
        },
        "id": "hkubDgomP-qw",
        "outputId": "fb61f644-626d-4d32-9b62-92f819b5dedf"
      },
      "source": [
        "microdadosEnemQuestionario.head()"
      ],
      "execution_count": null,
      "outputs": [
        {
          "output_type": "execute_result",
          "data": {
            "text/html": [
              "<div>\n",
              "<style scoped>\n",
              "    .dataframe tbody tr th:only-of-type {\n",
              "        vertical-align: middle;\n",
              "    }\n",
              "\n",
              "    .dataframe tbody tr th {\n",
              "        vertical-align: top;\n",
              "    }\n",
              "\n",
              "    .dataframe thead th {\n",
              "        text-align: right;\n",
              "    }\n",
              "</style>\n",
              "<table border=\"1\" class=\"dataframe\">\n",
              "  <thead>\n",
              "    <tr style=\"text-align: right;\">\n",
              "      <th></th>\n",
              "      <th>NU_INSCRICAO</th>\n",
              "      <th>NU_NOTA_MT</th>\n",
              "      <th>NU_NOTA_REDACAO</th>\n",
              "      <th>Q001</th>\n",
              "      <th>Q002</th>\n",
              "      <th>NO_Q001</th>\n",
              "      <th>NO_Q002</th>\n",
              "      <th>SG_UF_RESIDENCIA</th>\n",
              "    </tr>\n",
              "  </thead>\n",
              "  <tbody>\n",
              "    <tr>\n",
              "      <th>1</th>\n",
              "      <td>180007197856</td>\n",
              "      <td>480.3</td>\n",
              "      <td>280.0</td>\n",
              "      <td>B</td>\n",
              "      <td>B</td>\n",
              "      <td>Não completou a 4ª série/5º ano do Ensino Fund...</td>\n",
              "      <td>Não completou a 4ª série/5º ano do Ensino Fund...</td>\n",
              "      <td>MA</td>\n",
              "    </tr>\n",
              "    <tr>\n",
              "      <th>5</th>\n",
              "      <td>180007239581</td>\n",
              "      <td>538.8</td>\n",
              "      <td>580.0</td>\n",
              "      <td>C</td>\n",
              "      <td>D</td>\n",
              "      <td>Completou a 4ª série/5º ano , mas não completo...</td>\n",
              "      <td>Completou a 8ª série/9º ano do Ensino Fundamen...</td>\n",
              "      <td>PB</td>\n",
              "    </tr>\n",
              "    <tr>\n",
              "      <th>7</th>\n",
              "      <td>180008090447</td>\n",
              "      <td>733.8</td>\n",
              "      <td>680.0</td>\n",
              "      <td>A</td>\n",
              "      <td>E</td>\n",
              "      <td>Nunca estudou</td>\n",
              "      <td>Completou o Ensino Médio, mas não completou a ...</td>\n",
              "      <td>PI</td>\n",
              "    </tr>\n",
              "    <tr>\n",
              "      <th>8</th>\n",
              "      <td>180008257068</td>\n",
              "      <td>459.0</td>\n",
              "      <td>340.0</td>\n",
              "      <td>D</td>\n",
              "      <td>D</td>\n",
              "      <td>Completou a 8ª série/9º ano do Ensino Fundamen...</td>\n",
              "      <td>Completou a 8ª série/9º ano do Ensino Fundamen...</td>\n",
              "      <td>CE</td>\n",
              "    </tr>\n",
              "    <tr>\n",
              "      <th>9</th>\n",
              "      <td>180008202044</td>\n",
              "      <td>525.4</td>\n",
              "      <td>740.0</td>\n",
              "      <td>C</td>\n",
              "      <td>C</td>\n",
              "      <td>Completou a 4ª série/5º ano , mas não completo...</td>\n",
              "      <td>Completou a 4ª série/5º ano , mas não completo...</td>\n",
              "      <td>MT</td>\n",
              "    </tr>\n",
              "  </tbody>\n",
              "</table>\n",
              "</div>"
            ],
            "text/plain": [
              "   NU_INSCRICAO  ...  SG_UF_RESIDENCIA\n",
              "1  180007197856  ...                MA\n",
              "5  180007239581  ...                PB\n",
              "7  180008090447  ...                PI\n",
              "8  180008257068  ...                CE\n",
              "9  180008202044  ...                MT\n",
              "\n",
              "[5 rows x 8 columns]"
            ]
          },
          "metadata": {},
          "execution_count": 95
        }
      ]
    },
    {
      "cell_type": "code",
      "metadata": {
        "colab": {
          "base_uri": "https://localhost:8080/"
        },
        "id": "cGcpWZEbQCM1",
        "outputId": "6f009adb-0ef4-4e14-fca4-ee0fd984c937"
      },
      "source": [
        "microdadosEnemQuestionario.filter(items=['NU_NOTA_REDACAO', 'NO_Q002'])\\\n",
        "                          .where(microdadosEnemQuestionario.SG_UF_RESIDENCIA == 'RJ')\\\n",
        "                          .groupby('NO_Q002')\\\n",
        "                          .mean()\\\n",
        "                          .sort_values(by='NU_NOTA_REDACAO', ascending=False)"
      ],
      "execution_count": null,
      "outputs": [
        {
          "output_type": "execute_result",
          "data": {
            "text/html": [
              "<div>\n",
              "<style scoped>\n",
              "    .dataframe tbody tr th:only-of-type {\n",
              "        vertical-align: middle;\n",
              "    }\n",
              "\n",
              "    .dataframe tbody tr th {\n",
              "        vertical-align: top;\n",
              "    }\n",
              "\n",
              "    .dataframe thead th {\n",
              "        text-align: right;\n",
              "    }\n",
              "</style>\n",
              "<table border=\"1\" class=\"dataframe\">\n",
              "  <thead>\n",
              "    <tr style=\"text-align: right;\">\n",
              "      <th></th>\n",
              "      <th>NU_NOTA_REDACAO</th>\n",
              "    </tr>\n",
              "    <tr>\n",
              "      <th>NO_Q002</th>\n",
              "      <th></th>\n",
              "    </tr>\n",
              "  </thead>\n",
              "  <tbody>\n",
              "    <tr>\n",
              "      <th>Completou a Pós-Graduação</th>\n",
              "      <td>716.608187</td>\n",
              "    </tr>\n",
              "    <tr>\n",
              "      <th>Completou a Faculdade, mas não completou a Pós-graduação</th>\n",
              "      <td>677.485714</td>\n",
              "    </tr>\n",
              "    <tr>\n",
              "      <th>Completou o Ensino Médio, mas não completou a Faculdade</th>\n",
              "      <td>572.844660</td>\n",
              "    </tr>\n",
              "    <tr>\n",
              "      <th>Completou a 8ª série/9º ano do Ensino Fundamental, mas não completou o Ensino Médio</th>\n",
              "      <td>526.218097</td>\n",
              "    </tr>\n",
              "    <tr>\n",
              "      <th>Completou a 4ª série/5º ano , mas não completou a 8ª série/9º ano do Ensino Fundamental</th>\n",
              "      <td>506.404199</td>\n",
              "    </tr>\n",
              "    <tr>\n",
              "      <th>Não completou a 4ª série/5º ano do Ensino Fundamental</th>\n",
              "      <td>495.084746</td>\n",
              "    </tr>\n",
              "    <tr>\n",
              "      <th>Nunca estudou</th>\n",
              "      <td>468.387097</td>\n",
              "    </tr>\n",
              "    <tr>\n",
              "      <th>Não sei</th>\n",
              "      <td>456.556291</td>\n",
              "    </tr>\n",
              "  </tbody>\n",
              "</table>\n",
              "</div>"
            ],
            "text/plain": [
              "                                                    NU_NOTA_REDACAO\n",
              "NO_Q002                                                            \n",
              "Completou a Pós-Graduação                                716.608187\n",
              "Completou a Faculdade, mas não completou a Pós-...       677.485714\n",
              "Completou o Ensino Médio, mas não completou a F...       572.844660\n",
              "Completou a 8ª série/9º ano do Ensino Fundament...       526.218097\n",
              "Completou a 4ª série/5º ano , mas não completou...       506.404199\n",
              "Não completou a 4ª série/5º ano do Ensino Funda...       495.084746\n",
              "Nunca estudou                                            468.387097\n",
              "Não sei                                                  456.556291"
            ]
          },
          "metadata": {},
          "execution_count": 100
        }
      ]
    },
    {
      "cell_type": "code",
      "metadata": {
        "colab": {
          "base_uri": "https://localhost:8080/"
        },
        "id": "lD4IS4g1QyTr",
        "outputId": "bec7c042-d994-4cb0-9ecd-d12f5940a614"
      },
      "source": [
        "microdadosEnemQuestionario.filter(items=['NU_NOTA_REDACAO', 'NO_Q002'])\\\n",
        "                          .where(microdadosEnemQuestionario.SG_UF_RESIDENCIA == 'SP')\\\n",
        "                          .groupby('NO_Q002')\\\n",
        "                          .mean()\\\n",
        "                          .sort_values(by='NU_NOTA_REDACAO', ascending=False)"
      ],
      "execution_count": null,
      "outputs": [
        {
          "output_type": "execute_result",
          "data": {
            "text/html": [
              "<div>\n",
              "<style scoped>\n",
              "    .dataframe tbody tr th:only-of-type {\n",
              "        vertical-align: middle;\n",
              "    }\n",
              "\n",
              "    .dataframe tbody tr th {\n",
              "        vertical-align: top;\n",
              "    }\n",
              "\n",
              "    .dataframe thead th {\n",
              "        text-align: right;\n",
              "    }\n",
              "</style>\n",
              "<table border=\"1\" class=\"dataframe\">\n",
              "  <thead>\n",
              "    <tr style=\"text-align: right;\">\n",
              "      <th></th>\n",
              "      <th>NU_NOTA_REDACAO</th>\n",
              "    </tr>\n",
              "    <tr>\n",
              "      <th>NO_Q002</th>\n",
              "      <th></th>\n",
              "    </tr>\n",
              "  </thead>\n",
              "  <tbody>\n",
              "    <tr>\n",
              "      <th>Completou a Pós-Graduação</th>\n",
              "      <td>649.821429</td>\n",
              "    </tr>\n",
              "    <tr>\n",
              "      <th>Completou a Faculdade, mas não completou a Pós-graduação</th>\n",
              "      <td>620.499621</td>\n",
              "    </tr>\n",
              "    <tr>\n",
              "      <th>Completou o Ensino Médio, mas não completou a Faculdade</th>\n",
              "      <td>562.019160</td>\n",
              "    </tr>\n",
              "    <tr>\n",
              "      <th>Completou a 8ª série/9º ano do Ensino Fundamental, mas não completou o Ensino Médio</th>\n",
              "      <td>531.449363</td>\n",
              "    </tr>\n",
              "    <tr>\n",
              "      <th>Completou a 4ª série/5º ano , mas não completou a 8ª série/9º ano do Ensino Fundamental</th>\n",
              "      <td>520.776567</td>\n",
              "    </tr>\n",
              "    <tr>\n",
              "      <th>Não completou a 4ª série/5º ano do Ensino Fundamental</th>\n",
              "      <td>491.344383</td>\n",
              "    </tr>\n",
              "    <tr>\n",
              "      <th>Não sei</th>\n",
              "      <td>488.936170</td>\n",
              "    </tr>\n",
              "    <tr>\n",
              "      <th>Nunca estudou</th>\n",
              "      <td>447.160494</td>\n",
              "    </tr>\n",
              "  </tbody>\n",
              "</table>\n",
              "</div>"
            ],
            "text/plain": [
              "                                                    NU_NOTA_REDACAO\n",
              "NO_Q002                                                            \n",
              "Completou a Pós-Graduação                                649.821429\n",
              "Completou a Faculdade, mas não completou a Pós-...       620.499621\n",
              "Completou o Ensino Médio, mas não completou a F...       562.019160\n",
              "Completou a 8ª série/9º ano do Ensino Fundament...       531.449363\n",
              "Completou a 4ª série/5º ano , mas não completou...       520.776567\n",
              "Não completou a 4ª série/5º ano do Ensino Funda...       491.344383\n",
              "Não sei                                                  488.936170\n",
              "Nunca estudou                                            447.160494"
            ]
          },
          "metadata": {},
          "execution_count": 101
        }
      ]
    },
    {
      "cell_type": "code",
      "metadata": {
        "colab": {
          "base_uri": "https://localhost:8080/"
        },
        "id": "8imP0X_KQ6aw",
        "outputId": "3186803a-4425-47e3-e869-f9b46f395a34"
      },
      "source": [
        "microdadosEnemQuestionario.filter(items=['SG_UF_RESIDENCIA','NU_NOTA_REDACAO', 'NO_Q002'])\\\n",
        "                          .groupby(['SG_UF_RESIDENCIA', 'NO_Q002'])\\\n",
        "                          .mean()"
      ],
      "execution_count": null,
      "outputs": [
        {
          "output_type": "execute_result",
          "data": {
            "text/html": [
              "<div>\n",
              "<style scoped>\n",
              "    .dataframe tbody tr th:only-of-type {\n",
              "        vertical-align: middle;\n",
              "    }\n",
              "\n",
              "    .dataframe tbody tr th {\n",
              "        vertical-align: top;\n",
              "    }\n",
              "\n",
              "    .dataframe thead th {\n",
              "        text-align: right;\n",
              "    }\n",
              "</style>\n",
              "<table border=\"1\" class=\"dataframe\">\n",
              "  <thead>\n",
              "    <tr style=\"text-align: right;\">\n",
              "      <th></th>\n",
              "      <th></th>\n",
              "      <th>NU_NOTA_REDACAO</th>\n",
              "    </tr>\n",
              "    <tr>\n",
              "      <th>SG_UF_RESIDENCIA</th>\n",
              "      <th>NO_Q002</th>\n",
              "      <th></th>\n",
              "    </tr>\n",
              "  </thead>\n",
              "  <tbody>\n",
              "    <tr>\n",
              "      <th rowspan=\"5\" valign=\"top\">AC</th>\n",
              "      <th>Completou a 4ª série/5º ano , mas não completou a 8ª série/9º ano do Ensino Fundamental</th>\n",
              "      <td>486.382979</td>\n",
              "    </tr>\n",
              "    <tr>\n",
              "      <th>Completou a 8ª série/9º ano do Ensino Fundamental, mas não completou o Ensino Médio</th>\n",
              "      <td>547.058824</td>\n",
              "    </tr>\n",
              "    <tr>\n",
              "      <th>Completou a Faculdade, mas não completou a Pós-graduação</th>\n",
              "      <td>558.378378</td>\n",
              "    </tr>\n",
              "    <tr>\n",
              "      <th>Completou a Pós-Graduação</th>\n",
              "      <td>554.545455</td>\n",
              "    </tr>\n",
              "    <tr>\n",
              "      <th>Completou o Ensino Médio, mas não completou a Faculdade</th>\n",
              "      <td>503.617021</td>\n",
              "    </tr>\n",
              "    <tr>\n",
              "      <th>...</th>\n",
              "      <th>...</th>\n",
              "      <td>...</td>\n",
              "    </tr>\n",
              "    <tr>\n",
              "      <th rowspan=\"5\" valign=\"top\">TO</th>\n",
              "      <th>Completou a Pós-Graduação</th>\n",
              "      <td>605.555556</td>\n",
              "    </tr>\n",
              "    <tr>\n",
              "      <th>Completou o Ensino Médio, mas não completou a Faculdade</th>\n",
              "      <td>509.915966</td>\n",
              "    </tr>\n",
              "    <tr>\n",
              "      <th>Nunca estudou</th>\n",
              "      <td>419.230769</td>\n",
              "    </tr>\n",
              "    <tr>\n",
              "      <th>Não completou a 4ª série/5º ano do Ensino Fundamental</th>\n",
              "      <td>453.904762</td>\n",
              "    </tr>\n",
              "    <tr>\n",
              "      <th>Não sei</th>\n",
              "      <td>479.090909</td>\n",
              "    </tr>\n",
              "  </tbody>\n",
              "</table>\n",
              "<p>216 rows × 1 columns</p>\n",
              "</div>"
            ],
            "text/plain": [
              "                                                                     NU_NOTA_REDACAO\n",
              "SG_UF_RESIDENCIA NO_Q002                                                            \n",
              "AC               Completou a 4ª série/5º ano , mas não completou...       486.382979\n",
              "                 Completou a 8ª série/9º ano do Ensino Fundament...       547.058824\n",
              "                 Completou a Faculdade, mas não completou a Pós-...       558.378378\n",
              "                 Completou a Pós-Graduação                                554.545455\n",
              "                 Completou o Ensino Médio, mas não completou a F...       503.617021\n",
              "...                                                                              ...\n",
              "TO               Completou a Pós-Graduação                                605.555556\n",
              "                 Completou o Ensino Médio, mas não completou a F...       509.915966\n",
              "                 Nunca estudou                                            419.230769\n",
              "                 Não completou a 4ª série/5º ano do Ensino Funda...       453.904762\n",
              "                 Não sei                                                  479.090909\n",
              "\n",
              "[216 rows x 1 columns]"
            ]
          },
          "metadata": {},
          "execution_count": 102
        }
      ]
    },
    {
      "cell_type": "code",
      "metadata": {
        "colab": {
          "base_uri": "https://localhost:8080/"
        },
        "id": "g2y8B0N9RJp8",
        "outputId": "402e1639-fddf-4c80-a678-1a8639c9aee2"
      },
      "source": [
        "microdadosEnemQuestionario.filter(items=['SG_UF_RESIDENCIA','NU_NOTA_REDACAO', 'NO_Q002'])\\\n",
        "                          .groupby(['SG_UF_RESIDENCIA', 'NO_Q002'])\\\n",
        "                          .mean()\\\n",
        "                          .sort_values(by='NU_NOTA_REDACAO', ascending=False)\\\n",
        "                          .unstack()\\\n",
        "                          .plot()"
      ],
      "execution_count": null,
      "outputs": [
        {
          "output_type": "execute_result",
          "data": {
            "text/plain": [
              "<matplotlib.axes._subplots.AxesSubplot at 0x7f16b97a89d0>"
            ]
          },
          "metadata": {},
          "execution_count": 104
        },
        {
          "output_type": "display_data",
          "data": {
            "image/png": "[encoded data removed]",
            "text/plain": [
              "<Figure size 432x288 with 1 Axes>"
            ]
          },
          "metadata": {
            "needs_background": "light"
          }
        }
      ]
    },
    {
      "cell_type": "code",
      "metadata": {
        "colab": {
          "base_uri": "https://localhost:8080/"
        },
        "id": "3-Px_npHRnQt",
        "outputId": "38fc9a0c-3b23-4813-e166-14a84ee0f072"
      },
      "source": [
        "fig, ax = plt.subplots(figsize=(20,7))\n",
        "plt.suptitle('Nota Redação x Escolaridade x Estado')\n",
        "\n",
        "microdadosEnemQuestionario.filter(items=['SG_UF_RESIDENCIA','NU_NOTA_REDACAO', 'Q002'])\\\n",
        "                          .where(microdadosEnemQuestionario.Q002 != 'H')\\\n",
        "                          .groupby(['Q002', 'SG_UF_RESIDENCIA'])\\\n",
        "                          .mean()\\\n",
        "                          .sort_values(by='NU_NOTA_REDACAO', ascending=False)\\\n",
        "                          .unstack()\\\n",
        "                          .plot(ax = ax, )"
      ],
      "execution_count": null,
      "outputs": [
        {
          "output_type": "execute_result",
          "data": {
            "text/plain": [
              "<matplotlib.axes._subplots.AxesSubplot at 0x7f16bb5a3dd0>"
            ]
          },
          "metadata": {},
          "execution_count": 111
        },
        {
          "output_type": "display_data",
          "data": {
            "image/png": "[encoded data removed]",
            "text/plain": [
              "<Figure size 1440x504 with 1 Axes>"
            ]
          },
          "metadata": {
            "needs_background": "light"
          }
        }
      ]
    },
    {
      "cell_type": "markdown",
      "metadata": {
        "id": "ogYMM3f5TZ_L"
      },
      "source": [
        "# Matplotlib"
      ]
    },
    {
      "cell_type": "markdown",
      "metadata": {
        "id": "Mc8zKnpWTdTP"
      },
      "source": [
        "https://matplotlib.org/\n"
      ]
    },
    {
      "cell_type": "markdown",
      "metadata": {
        "id": "40TlD7juUTqB"
      },
      "source": [
        "Figure - Figura completa\n",
        "Axe - Grafico\n",
        "Axis - componentes\n",
        "Axys - eixos"
      ]
    },
    {
      "cell_type": "code",
      "metadata": {
        "colab": {
          "base_uri": "https://localhost:8080/",
          "height": 265
        },
        "id": "5FY0j-GaUHrZ",
        "outputId": "5e90e08d-7cda-4ca8-cfa1-ab9f25cac63c"
      },
      "source": [
        "plt.plot([1,2,3,4])\n",
        "plt.show()"
      ],
      "execution_count": null,
      "outputs": [
        {
          "output_type": "display_data",
          "data": {
            "image/png": "[encoded data removed]",
            "text/plain": [
              "<Figure size 432x288 with 1 Axes>"
            ]
          },
          "metadata": {
            "needs_background": "light"
          }
        }
      ]
    },
    {
      "cell_type": "code",
      "metadata": {
        "colab": {
          "base_uri": "https://localhost:8080/",
          "height": 265
        },
        "id": "fbQ23voyU48X",
        "outputId": "55b440de-9927-462c-cdb0-2ed37643d7e6"
      },
      "source": [
        "plt.plot([1,2,3,4], 'ro')\n",
        "plt.show()"
      ],
      "execution_count": null,
      "outputs": [
        {
          "output_type": "display_data",
          "data": {
            "image/png": "[encoded data removed]",
            "text/plain": [
              "<Figure size 432x288 with 1 Axes>"
            ]
          },
          "metadata": {
            "needs_background": "light"
          }
        }
      ]
    },
    {
      "cell_type": "code",
      "metadata": {
        "colab": {
          "base_uri": "https://localhost:8080/",
          "height": 680
        },
        "id": "W0Z1wb26U-F2",
        "outputId": "1f48e903-ed87-4d14-90c5-706866e0c21a"
      },
      "source": [
        "x = np.arange(0, 10, 0.1)\n",
        "fig1, f1_axes = plt.subplots(ncols=2, nrows=2, figsize=(15,10))\n",
        "fig1.suptitle(\"Minha primeira figura\", size=30)\n",
        "\n",
        "f1_axes[0,0].plot(np.sin(x), label=\"sen(x)\", color=\"purple\")\n",
        "f1_axes[0,0].plot(np.cos(x), label=\"cos(x)\", color=\"darkturquoise\")\n",
        "f1_axes[0,0].set_title(\"Caixa 1\")\n",
        "f1_axes[0,0].set_xlabel(\"Caixa 1 - Label X\")\n",
        "f1_axes[0,0].set_ylabel(\"Caixa 1 - Label Y\")\n",
        "f1_axes[0,0].legend()\n",
        "\n",
        "f1_axes[0,1].plot(np.cos(x))\n",
        "f1_axes[0,1].set_title(\"Caixa 2\")\n",
        "\n",
        "f1_axes[1,0].plot(np.tan(x))\n",
        "f1_axes[1,0].set_title(\"Caixa 3\")\n",
        "\n",
        "f1_axes[1,1].set_title(\"Caixa 4\")"
      ],
      "execution_count": null,
      "outputs": [
        {
          "output_type": "execute_result",
          "data": {
            "text/plain": [
              "Text(0.5, 1.0, 'Caixa 4')"
            ]
          },
          "metadata": {},
          "execution_count": 131
        },
        {
          "output_type": "display_data",
          "data": {
            "image/png": "[encoded data removed]",
            "text/plain": [
              "<Figure size 1080x720 with 4 Axes>"
            ]
          },
          "metadata": {
            "needs_background": "light"
          }
        }
      ]
    },
    {
      "cell_type": "code",
      "metadata": {
        "colab": {
          "base_uri": "https://localhost:8080/"
        },
        "id": "0Gl0TwirVPGx",
        "outputId": "a72a2367-4fa1-4c06-cf32-f75bdfab835b"
      },
      "source": [
        "f1_axes"
      ],
      "execution_count": null,
      "outputs": [
        {
          "output_type": "execute_result",
          "data": {
            "text/plain": [
              "array([[<matplotlib.axes._subplots.AxesSubplot object at 0x7f16b0b00910>,\n",
              "        <matplotlib.axes._subplots.AxesSubplot object at 0x7f16c7a46690>],\n",
              "       [<matplotlib.axes._subplots.AxesSubplot object at 0x7f16b0c7a610>,\n",
              "        <matplotlib.axes._subplots.AxesSubplot object at 0x7f16b15ccb90>]],\n",
              "      dtype=object)"
            ]
          },
          "metadata": {},
          "execution_count": 116
        }
      ]
    },
    {
      "cell_type": "code",
      "metadata": {
        "colab": {
          "base_uri": "https://localhost:8080/"
        },
        "id": "7CTuZUk9Vtyl",
        "outputId": "b56f41d9-79fe-419d-8d14-1fd4ccf7ec60"
      },
      "source": [
        "x"
      ],
      "execution_count": null,
      "outputs": [
        {
          "output_type": "execute_result",
          "data": {
            "text/plain": [
              "array([0. , 0.1, 0.2, 0.3, 0.4, 0.5, 0.6, 0.7, 0.8, 0.9, 1. , 1.1, 1.2,\n",
              "       1.3, 1.4, 1.5, 1.6, 1.7, 1.8, 1.9, 2. , 2.1, 2.2, 2.3, 2.4, 2.5,\n",
              "       2.6, 2.7, 2.8, 2.9, 3. , 3.1, 3.2, 3.3, 3.4, 3.5, 3.6, 3.7, 3.8,\n",
              "       3.9, 4. , 4.1, 4.2, 4.3, 4.4, 4.5, 4.6, 4.7, 4.8, 4.9, 5. , 5.1,\n",
              "       5.2, 5.3, 5.4, 5.5, 5.6, 5.7, 5.8, 5.9, 6. , 6.1, 6.2, 6.3, 6.4,\n",
              "       6.5, 6.6, 6.7, 6.8, 6.9, 7. , 7.1, 7.2, 7.3, 7.4, 7.5, 7.6, 7.7,\n",
              "       7.8, 7.9, 8. , 8.1, 8.2, 8.3, 8.4, 8.5, 8.6, 8.7, 8.8, 8.9, 9. ,\n",
              "       9.1, 9.2, 9.3, 9.4, 9.5, 9.6, 9.7, 9.8, 9.9])"
            ]
          },
          "metadata": {},
          "execution_count": 120
        }
      ]
    },
    {
      "cell_type": "code",
      "metadata": {
        "id": "EhLO7mVwVwaX"
      },
      "source": [
        "np?"
      ],
      "execution_count": null,
      "outputs": []
    }
  ]
}